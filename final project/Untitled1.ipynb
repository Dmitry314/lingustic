{
 "cells": [
  {
   "cell_type": "code",
   "execution_count": 1,
   "metadata": {
    "collapsed": false
   },
   "outputs": [
    {
     "name": "stdout",
     "output_type": "stream",
     "text": [
      "(u'Apple', 0, 5, u'ORG')\n",
      "(u'U.K.', 27, 31, u'GPE')\n",
      "(u'$1 billion', 44, 54, u'MONEY')\n"
     ]
    }
   ],
   "source": [
    "import spacy\n",
    "\n",
    "nlp = spacy.load('en_core_web_sm')\n",
    "doc = nlp(u'Apple is looking at buying U.K. startup for $1 billion')\n",
    "\n",
    "for ent in doc.ents:\n",
    "    print(ent.text, ent.start_char, ent.end_char, ent.label_)"
   ]
  },
  {
   "cell_type": "code",
   "execution_count": 2,
   "metadata": {
    "collapsed": true
   },
   "outputs": [],
   "source": [
    "import string\n",
    "import nltk\n",
    "def clean_text_2(data):\n",
    "    res = []\n",
    "    for i in data:\n",
    "        \n",
    "        if not i in set('!@#$%^&\\'*:()\\x99_+}{[]?.,/-\\\"'):\n",
    "            if(i == '\\n'):\n",
    "                res.append(' ')\n",
    "            else:\n",
    "                res.append(i)\n",
    "    \n",
    "    res = \"\".join(res)\n",
    "\n",
    "    \n",
    "    return res\n",
    "    \n",
    "def clean3(data):\n",
    "    res = []\n",
    "    a = set(string.ascii_letters)\n",
    "    a.add(' ')\n",
    "    for i in data:\n",
    "        \n",
    "        if(i == '\\n'):\n",
    "            res.append(' ')\n",
    "        else:\n",
    "            if  i in set(a):\n",
    "                res.append(i)\n",
    "          \n",
    "    \n",
    "    res = \"\".join(res)\n",
    "\n",
    "    \n",
    "    return res"
   ]
  },
  {
   "cell_type": "code",
   "execution_count": 4,
   "metadata": {
    "collapsed": false
   },
   "outputs": [],
   "source": [
    "from helper_fun import *\n",
    "title = 'Crime.txt'\n",
    "text = get_one_text(title)\n",
    "text = text.replace('!', '.')\n",
    "text = text.replace('?', '.')\n",
    "sentences = text.split('.')\n",
    "\n",
    "\n",
    "for i in range(0, len(sentences)):\n",
    "    sentences[i] = sentences[i].lstrip().rstrip()\n",
    "    sentences[i] = clean3(sentences[i])\n",
    "\n",
    "    sentences[i] = sentences[i].lstrip().rstrip()\n",
    "    sentences[i] = clean3(sentences[i])\n"
   ]
  },
  {
   "cell_type": "code",
   "execution_count": 8,
   "metadata": {
    "collapsed": false
   },
   "outputs": [
    {
     "name": "stderr",
     "output_type": "stream",
     "text": [
      "\n",
      "  0%|          | 0/21762 [00:00<?, ?it/s]\u001b[A\n",
      "  0%|          | 5/21762 [00:00<07:57, 45.59it/s]\u001b[A\n",
      "  0%|          | 9/21762 [00:00<08:29, 42.69it/s]\u001b[A"
     ]
    },
    {
     "name": "stdout",
     "output_type": "stream",
     "text": [
      "(u'Foreword', 42, 50, u'GPE')\n",
      "(u'thirty', 111, 117, u'CARDINAL')\n",
      "(u'four months forming two', 168, 191, u'DATE')\n",
      "(u'one', 230, 233, u'QUANTITY')\n",
      "(u'Anna Vasilievna', 20, 35, u'PERSON')\n",
      "(u'the summer', 112, 122, u'DATE')\n",
      "(u'ten years', 41, 50, u'DATE')\n",
      "(u'first', 124, 129, u'ORDINAL')\n",
      "(u'Mikhail', 162, 169, u'PERSON')\n",
      "(u'A year earlier', 0, 14, u'DATE')\n",
      "(u' ', 63, 64, u'LOC')\n"
     ]
    },
    {
     "name": "stderr",
     "output_type": "stream",
     "text": [
      "\n",
      "  0%|          | 12/21762 [00:00<09:38, 37.61it/s]\u001b[A\n",
      "  0%|          | 16/21762 [00:00<10:14, 35.37it/s]\u001b[A"
     ]
    },
    {
     "name": "stdout",
     "output_type": "stream",
     "text": [
      "(u'November', 45, 53, u'DATE')\n",
      "(u'  ', 54, 56, u'ORG')\n",
      "(u'Stellovsky', 74, 84, u'PERSON')\n",
      "(u'one', 8, 11, u'CARDINAL')\n",
      "(u'Russian Herald', 59, 73, u'ORG')\n",
      "(u'January', 81, 88, u'DATE')\n",
      "(u'Stellovsky', 172, 182, u'PERSON')\n",
      "(u'Anna Grigorievna Snitkin', 67, 91, u'PERSON')\n",
      "(u'second', 112, 118, u'ORDINAL')\n"
     ]
    },
    {
     "name": "stderr",
     "output_type": "stream",
     "text": [
      "\n",
      "  0%|          | 19/21762 [00:00<12:11, 29.71it/s]\u001b[A"
     ]
    },
    {
     "name": "stdout",
     "output_type": "stream",
     "text": [
      "(u'Gambler', 4, 11, u'PERSON')\n",
      "(u'October', 32, 39, u'DATE')\n",
      "(u'November', 84, 92, u'DATE')\n",
      "(u'Punishment', 150, 160, u'GPE')\n",
      "(u'the first of', 162, 174, u'DATE')\n",
      "(u'five', 179, 183, u'CARDINAL')\n",
      "(u'the final fifteen years', 245, 268, u'DATE')\n",
      "(u'one', 126, 129, u'CARDINAL')\n",
      "(u'Hindu', 137, 142, u'NORP')\n",
      "(u'Vrangel', 34, 41, u'PERSON')\n",
      "(u'December', 45, 53, u'DATE')\n",
      "(u'several months', 97, 111, u'DATE')\n",
      "(u'first', 116, 121, u'ORDINAL')\n",
      "(u'Crime and Punishment  ', 133, 155, u'ORG')\n",
      "(u'six', 185, 188, u'CARDINAL')\n"
     ]
    },
    {
     "name": "stderr",
     "output_type": "stream",
     "text": [
      "\n",
      "  0%|          | 22/21762 [00:00<12:19, 29.41it/s]\u001b[A\n",
      "  0%|          | 27/21762 [00:00<11:34, 31.28it/s]\u001b[A"
     ]
    },
    {
     "name": "stdout",
     "output_type": "stream",
     "text": [
      "(u'the end of November', 38, 57, u'DATE')\n",
      "(u' ', 11, 12, u'NORP')\n"
     ]
    },
    {
     "name": "stderr",
     "output_type": "stream",
     "text": [
      "\n",
      "  0%|          | 32/21762 [00:00<11:05, 32.64it/s]\u001b[A\n",
      "  0%|          | 36/21762 [00:01<11:25, 31.70it/s]\u001b[A"
     ]
    },
    {
     "name": "stdout",
     "output_type": "stream",
     "text": [
      "(u'first', 208, 213, u'ORDINAL')\n",
      "(u'Mnippean', 217, 225, u'NORP')\n",
      "(u'Tolstoy Turgenev Goncharov', 89, 115, u'PERSON')\n"
     ]
    },
    {
     "name": "stderr",
     "output_type": "stream",
     "text": [
      "\n",
      "  0%|          | 40/21762 [00:01<11:49, 30.63it/s]\u001b[A\n",
      "  0%|          | 43/21762 [00:01<11:49, 30.60it/s]\u001b[A"
     ]
    },
    {
     "name": "stdout",
     "output_type": "stream",
     "text": [
      "(u'Notes', 37, 42, u'PRODUCT')\n",
      "(u'Underground', 48, 59, u'FAC')\n",
      "(u'just a year', 75, 86, u'DATE')\n",
      "(u'Crime and Punishment', 111, 131, u'ORG')\n",
      "(u'Utopian', 59, 66, u'GPE')\n"
     ]
    },
    {
     "name": "stderr",
     "output_type": "stream",
     "text": [
      "\n",
      "  0%|          | 46/21762 [00:01<11:56, 30.32it/s]\u001b[A\n",
      "  0%|          | 49/21762 [00:01<12:01, 30.08it/s]\u001b[A\n",
      "  0%|          | 52/21762 [00:01<12:05, 29.91it/s]\u001b[A"
     ]
    },
    {
     "name": "stdout",
     "output_type": "stream",
     "text": [
      "(u'French', 143, 149, u'NORP')\n",
      "(u'SaintSimon', 171, 181, u'ORG')\n",
      "(u'Petrashevsky', 58, 70, u'PERSON')\n",
      "(u' ', 30, 31, u'NORP')\n",
      "(u'Notes', 3, 8, u'PRODUCT')\n",
      "(u'the Dead House', 14, 28, u'ORG')\n",
      "(u'first', 80, 85, u'ORDINAL')\n",
      "(u' a year', 99, 106, u'DATE')\n",
      "(u'Petersburg', 127, 137, u'GPE')\n",
      "(u'one day', 284, 291, u'DATE')\n",
      "(u'Notes', 26, 31, u'PRODUCT')\n",
      "(u'Underground', 37, 48, u'FAC')\n"
     ]
    },
    {
     "name": "stderr",
     "output_type": "stream",
     "text": [
      "\n",
      "  0%|          | 55/21762 [00:01<12:20, 29.30it/s]\u001b[A\n",
      "  0%|          | 59/21762 [00:01<12:13, 29.61it/s]\u001b[A"
     ]
    },
    {
     "name": "stdout",
     "output_type": "stream",
     "text": [
      "(u'Chernyshevskys', 48, 62, u'ORG')\n",
      "(u'Two', 129, 132, u'CARDINAL')\n",
      "(u'two', 139, 142, u'CARDINAL')\n",
      "(u'four', 146, 150, u'CARDINAL')\n",
      "(u'Alexander IIthe', 87, 102, u'PERSON')\n",
      "(u'one', 11, 14, u'CARDINAL')\n",
      "(u'two', 33, 36, u'CARDINAL')\n",
      "(u'two', 43, 46, u'CARDINAL')\n",
      "(u'one', 77, 80, u'CARDINAL')\n"
     ]
    },
    {
     "name": "stderr",
     "output_type": "stream",
     "text": [
      "\n",
      "  0%|          | 63/21762 [00:02<12:10, 29.70it/s]\u001b[A\n",
      "  0%|          | 66/21762 [00:02<12:11, 29.66it/s]\u001b[A\n",
      "  0%|          | 69/21762 [00:02<12:12, 29.60it/s]\u001b[A"
     ]
    },
    {
     "name": "stdout",
     "output_type": "stream",
     "text": [
      "(u'Petersburg Visions', 36, 54, u'ORG')\n",
      "(u'Verse', 58, 63, u'GPE')\n",
      "(u'one evening', 37, 48, u'TIME')\n",
      "(u'Neva', 79, 83, u'GPE')\n",
      "(u'this hour', 252, 261, u'TIME')\n"
     ]
    },
    {
     "name": "stderr",
     "output_type": "stream",
     "text": [
      "\n",
      "  0%|          | 74/21762 [00:02<11:57, 30.24it/s]\u001b[A"
     ]
    },
    {
     "name": "stdout",
     "output_type": "stream",
     "text": [
      "(u'minutes', 30, 37, u'TIME')\n",
      "(u'Don Carloses', 67, 79, u'ORG')\n",
      "(u' ', 239, 240, u'NORP')\n",
      "(u'Neva', 292, 296, u'GPE')\n"
     ]
    },
    {
     "name": "stderr",
     "output_type": "stream",
     "text": [
      "\n",
      "  0%|          | 78/21762 [00:02<11:55, 30.32it/s]\u001b[A\n",
      "  0%|          | 82/21762 [00:02<11:53, 30.36it/s]\u001b[A\n",
      "  0%|          | 86/21762 [00:02<11:47, 30.64it/s]\u001b[A"
     ]
    },
    {
     "name": "stdout",
     "output_type": "stream",
     "text": [
      "(u'Chernyshevsky Dostoevsky', 34, 58, u'PERSON')\n",
      "(u'Europe', 75, 81, u'LOC')\n",
      "(u'Russian', 113, 120, u'NORP')\n",
      "(u'the day', 78, 85, u'DATE')\n"
     ]
    },
    {
     "name": "stderr",
     "output_type": "stream",
     "text": [
      "\n",
      "  0%|          | 90/21762 [00:02<11:51, 30.45it/s]\u001b[A"
     ]
    },
    {
     "name": "stdout",
     "output_type": "stream",
     "text": [
      "(u'Notes', 0, 5, u'PRODUCT')\n",
      "(u'Underground  ', 11, 24, u'LOC')\n",
      "(u'two years later', 35, 50, u'DATE')\n",
      "(u'Raskolnikov', 110, 121, u'PERSON')\n",
      "(u'Notes', 169, 174, u'PRODUCT')\n",
      "(u'Underground', 180, 191, u'FAC')\n",
      "(u'Neva', 218, 222, u'GPE')\n",
      "(u'two', 34, 37, u'CARDINAL')\n",
      "(u'Crime and Punishment  ', 41, 63, u'ORG')\n"
     ]
    },
    {
     "name": "stderr",
     "output_type": "stream",
     "text": [
      "\n",
      "  0%|          | 94/21762 [00:03<12:05, 29.85it/s]\u001b[A"
     ]
    },
    {
     "name": "stdout",
     "output_type": "stream",
     "text": [
      "(u'The day', 0, 7, u'DATE')\n",
      "(u'Raskolnikov', 36, 47, u'PERSON')\n",
      "(u'Neva', 78, 82, u'GPE')\n",
      "(u'hundred', 131, 138, u'CARDINAL')\n"
     ]
    },
    {
     "name": "stderr",
     "output_type": "stream",
     "text": [
      "\n",
      "  0%|          | 98/21762 [00:03<12:01, 30.02it/s]\u001b[A\n",
      "  0%|          | 103/21762 [00:03<11:54, 30.29it/s]\u001b[A"
     ]
    },
    {
     "name": "stdout",
     "output_type": "stream",
     "text": [
      "(u'Raskolnikov', 0, 11, u'PERSON')\n",
      "(u'first', 157, 162, u'ORDINAL')\n",
      "(u'July', 23, 27, u'DATE')\n",
      "(u'two', 54, 57, u'CARDINAL')\n",
      "(u'Drunkards  ', 106, 117, u'NORP')\n",
      "(u'Fatherland Notes', 212, 228, u'ORG')\n",
      "(u'first', 313, 318, u'ORDINAL')\n",
      "(u'fifteen years earlier', 341, 362, u'DATE')\n",
      "(u'September', 3, 12, u'DATE')\n",
      "(u'Mikhail Katkov', 62, 76, u'PERSON')\n",
      "(u'the Russian Herald', 87, 105, u'ORG')\n",
      "(u'first', 61, 66, u'ORDINAL')\n"
     ]
    },
    {
     "name": "stderr",
     "output_type": "stream",
     "text": [
      "\n",
      "  0%|          | 107/21762 [00:03<11:53, 30.34it/s]\u001b[A\n",
      "  1%|          | 112/21762 [00:03<11:41, 30.85it/s]\u001b[A"
     ]
    },
    {
     "name": "stdout",
     "output_type": "stream",
     "text": [
      "(u'Katkov', 28, 34, u'PERSON')\n",
      "(u'Russian', 79, 86, u'NORP')\n",
      "(u'Nihilists', 146, 155, u'NORP')\n",
      "(u'Notes', 38, 43, u'PRODUCT')\n",
      "(u'Underground', 49, 60, u'FAC')\n",
      "(u'Katkov', 96, 102, u'PERSON')\n",
      "(u'Raskolnikov', 58, 69, u'PERSON')\n",
      "(u'Semyon Zakharovich Marmeladov', 106, 135, u'PERSON')\n"
     ]
    },
    {
     "name": "stderr",
     "output_type": "stream",
     "text": [
      "\n",
      "  1%|          | 116/21762 [00:03<11:48, 30.56it/s]\u001b[A"
     ]
    },
    {
     "name": "stdout",
     "output_type": "stream",
     "text": [
      "(u'Katerina Ivanovna', 59, 76, u'PERSON')\n",
      "(u'Drunkards  ', 144, 155, u'NORP')\n",
      "(u'two', 184, 187, u'CARDINAL')\n",
      "(u'Sonya', 244, 249, u'GPE')\n",
      "(u'Raskolnikov', 24, 35, u'PERSON')\n",
      "(u'Dunya', 126, 131, u'PERSON')\n",
      "(u'Luzhin', 151, 157, u'PERSON')\n",
      "(u'Svidrigailov', 188, 200, u'PERSON')\n",
      "(u'three', 15, 20, u'CARDINAL')\n",
      "(u'one', 38, 41, u'CARDINAL')\n",
      "(u'one', 5, 8, u'CARDINAL')\n",
      "(u'first', 69, 74, u'ORDINAL')\n",
      "(u'January', 109, 116, u'DATE')\n",
      "(u'the Russian Herald', 127, 145, u'ORG')\n"
     ]
    },
    {
     "name": "stderr",
     "output_type": "stream",
     "text": [
      "\n",
      "  1%|          | 120/21762 [00:03<11:58, 30.14it/s]\u001b[A\n",
      "  1%|          | 123/21762 [00:04<12:00, 30.03it/s]\u001b[A"
     ]
    },
    {
     "name": "stdout",
     "output_type": "stream",
     "text": [
      "(u'February', 17, 25, u'DATE')\n",
      "(u'Sonyas', 54, 60, u'NORP')\n",
      "(u'Raskolnikovs', 89, 101, u'PERSON')\n",
      "(u'Nihilists', 71, 80, u'NORP')\n",
      "(u'Napoleonic', 32, 42, u'ORG')\n",
      "(u'one', 3, 6, u'CARDINAL')\n",
      "(u'Raskolnikov', 15, 26, u'PERSON')\n",
      "(u'Raskolnikovs', 56, 68, u'PERSON')\n",
      "(u'Sonya', 7, 12, u'GPE')\n",
      "(u'Raskolnikovs', 73, 85, u'PERSON')\n"
     ]
    },
    {
     "name": "stderr",
     "output_type": "stream",
     "text": [
      "\n",
      "  1%|          | 127/21762 [00:04<12:00, 30.04it/s]\u001b[A\n",
      "  1%|          | 130/21762 [00:04<12:08, 29.70it/s]\u001b[A"
     ]
    },
    {
     "name": "stdout",
     "output_type": "stream",
     "text": [
      "(u'Gospel', 60, 66, u'GPE')\n",
      "(u'four', 109, 113, u'CARDINAL')\n",
      "(u'Luzhin', 47, 53, u'PRODUCT')\n",
      "(u'Svidrigailov', 68, 80, u'PERSON')\n",
      "(u'Notes', 19, 24, u'PRODUCT')\n",
      "(u'Underground', 30, 41, u'FAC')\n",
      "(u'Nastasya', 270, 278, u'PERSON')\n",
      "(u'Zamyotov', 304, 312, u'PERSON')\n",
      "(u'Lebezyatnikov', 340, 353, u'PERSON')\n"
     ]
    },
    {
     "name": "stderr",
     "output_type": "stream",
     "text": [
      "\n",
      "  1%|          | 133/21762 [00:04<12:11, 29.57it/s]\u001b[A\n",
      "  1%|          | 136/21762 [00:04<12:18, 29.27it/s]\u001b[A"
     ]
    },
    {
     "name": "stdout",
     "output_type": "stream",
     "text": [
      "(u'Raskolnikov', 56, 67, u'PERSON')\n",
      "(u'forty', 40, 45, u'CARDINAL')\n",
      "(u'Svidrigailovs', 123, 136, u'GPE')\n",
      "(u'Petersburg', 110, 120, u'GPE')\n"
     ]
    },
    {
     "name": "stderr",
     "output_type": "stream",
     "text": [
      "\n",
      "  1%|          | 140/21762 [00:04<12:18, 29.29it/s]\u001b[A"
     ]
    },
    {
     "name": "stdout",
     "output_type": "stream",
     "text": [
      "(u'Petersburg', 0, 10, u'ORG')\n",
      "(u'Raskolnikovs', 115, 127, u'ORG')\n",
      "(u'one', 54, 57, u'CARDINAL')\n",
      "(u'Raskolnikov', 24, 35, u'PERSON')\n",
      "(u'Raskolnikov', 101, 112, u'PERSON')\n",
      "(u'Church', 103, 109, u'ORG')\n"
     ]
    },
    {
     "name": "stderr",
     "output_type": "stream",
     "text": [
      "\n",
      "  1%|          | 143/21762 [00:04<12:18, 29.27it/s]\u001b[A\n",
      "  1%|          | 146/21762 [00:04<12:19, 29.23it/s]\u001b[A"
     ]
    },
    {
     "name": "stdout",
     "output_type": "stream",
     "text": [
      "(u'Konstantin Mochulsky', 20, 40, u'PERSON')\n",
      "(u'Russian', 36, 43, u'NORP')\n",
      "(u'Porfiry Petrovich', 133, 150, u'ORG')\n"
     ]
    },
    {
     "name": "stderr",
     "output_type": "stream",
     "text": [
      "\n",
      "  1%|          | 149/21762 [00:05<12:28, 28.89it/s]\u001b[A\n",
      "  1%|          | 152/21762 [00:05<12:33, 28.67it/s]\u001b[A"
     ]
    },
    {
     "name": "stdout",
     "output_type": "stream",
     "text": [
      "(u'Raskolnikov', 10, 21, u'PERSON')\n",
      "(u'Porfiry Petrovich', 15, 32, u'PERSON')\n",
      "(u'many years ahead', 91, 107, u'DATE')\n",
      "(u'Ambiguity', 0, 9, u'ORG')\n",
      "(u'Marmeladov', 112, 122, u'PERSON')\n"
     ]
    },
    {
     "name": "stderr",
     "output_type": "stream",
     "text": [
      "\n",
      "  1%|          | 155/21762 [00:05<12:34, 28.63it/s]\u001b[A\n",
      "  1%|          | 158/21762 [00:05<12:34, 28.65it/s]\u001b[A"
     ]
    },
    {
     "name": "stdout",
     "output_type": "stream",
     "text": [
      "(u'Raskolnikov', 26, 37, u'PERSON')\n",
      "(u'Suffering', 0, 9, u'GPE')\n",
      "(u'Crime and Punishment', 28, 48, u'ORG')\n"
     ]
    },
    {
     "name": "stderr",
     "output_type": "stream",
     "text": [
      "\n",
      "  1%|          | 163/21762 [00:05<12:26, 28.93it/s]\u001b[A\n",
      "  1%|          | 167/21762 [00:05<12:21, 29.11it/s]\u001b[A\n",
      "  1%|          | 171/21762 [00:05<12:20, 29.17it/s]\u001b[A"
     ]
    },
    {
     "name": "stdout",
     "output_type": "stream",
     "text": [
      "(u'Raskolnikov', 38, 49, u'PERSON')\n",
      "(u'Svidrigailov', 68, 80, u'PERSON')\n",
      "(u'second', 18, 24, u'ORDINAL')\n",
      "(u'Svidrigailovs', 126, 139, u'PERSON')\n",
      "(u'Neva', 193, 197, u'GPE')\n",
      "(u'Svidrigailov', 0, 12, u'PERSON')\n",
      "(u'Weil', 48, 52, u'PERSON')\n"
     ]
    },
    {
     "name": "stderr",
     "output_type": "stream",
     "text": [
      "\n",
      "  1%|          | 175/21762 [00:05<12:15, 29.35it/s]\u001b[A\n",
      "  1%|          | 179/21762 [00:06<12:16, 29.31it/s]\u001b[A\n",
      "  1%|          | 183/21762 [00:06<12:14, 29.39it/s]\u001b[A"
     ]
    },
    {
     "name": "stdout",
     "output_type": "stream",
     "text": [
      "(u'Svidrigailov', 0, 12, u'PERSON')\n",
      "(u'Raskolnikov', 0, 11, u'PERSON')\n",
      "(u'Razumikhin', 106, 116, u'PERSON')\n",
      "(u'Svidrigailovs', 17, 30, u'GPE')\n",
      "(u'Only one', 0, 8, u'CARDINAL')\n"
     ]
    },
    {
     "name": "stderr",
     "output_type": "stream",
     "text": [
      "\n",
      "  1%|          | 187/21762 [00:06<12:14, 29.36it/s]\u001b[A"
     ]
    },
    {
     "name": "stdout",
     "output_type": "stream",
     "text": [
      "(u'Sonya', 59, 64, u'GPE')\n",
      "(u'Raskolnikov', 0, 11, u'PERSON')\n",
      "(u'Sonya', 90, 95, u'GPE')\n",
      "(u'Svidrigailov', 100, 112, u'PERSON')\n"
     ]
    },
    {
     "name": "stderr",
     "output_type": "stream",
     "text": [
      "\n",
      "  1%|          | 191/21762 [00:06<12:17, 29.26it/s]\u001b[A\n",
      "  1%|          | 195/21762 [00:06<12:14, 29.38it/s]\u001b[A"
     ]
    },
    {
     "name": "stdout",
     "output_type": "stream",
     "text": [
      "(u'the night', 10, 19, u'TIME')\n",
      "(u'Svidrigailov', 55, 67, u'PERSON')\n",
      "(u'Sonya', 12, 17, u'GPE')\n",
      "(u'Richard Pevear  ', 0, 16, u'PERSON')\n",
      "(u'Translators Note  ', 16, 34, u'PERSON')\n"
     ]
    },
    {
     "name": "stderr",
     "output_type": "stream",
     "text": [
      "\n",
      "  1%|          | 199/21762 [00:06<12:16, 29.29it/s]\u001b[A"
     ]
    },
    {
     "name": "stdout",
     "output_type": "stream",
     "text": [
      "(u'Russian', 0, 7, u'NORP')\n",
      "(u'first', 30, 35, u'ORDINAL')\n",
      "(u'first', 69, 74, u'ORDINAL')\n",
      "(u'first', 35, 40, u'ORDINAL')\n",
      "(u'Rodion  Roman', 13, 26, u'NORP')\n",
      "(u'Roman', 36, 41, u'PERSON')\n",
      "(u'Rod', 46, 49, u'PERSON')\n",
      "(u'Rod', 53, 56, u'PERSON')\n",
      "(u'Pulcher', 61, 68, u'NORP')\n",
      "(u'Alexan', 72, 78, u'GPE')\n",
      "(u'Avdo', 87, 91, u'NORP')\n",
      "(u'Roman', 96, 101, u'PERSON')\n",
      "(u'Dun', 107, 110, u'PERSON')\n",
      "(u'Dun', 114, 117, u'PERSON')\n",
      "(u'Marmela', 124, 131, u'GPE')\n",
      "(u'Semyon', 136, 142, u'GPE')\n",
      "(u'Zakhar', 144, 150, u'PERSON')\n",
      "(u'Zakhar', 160, 166, u'PERSON')\n",
      "(u'Kateri', 172, 178, u'NORP')\n",
      "(u'Ivan', 182, 186, u'PERSON')\n",
      "(u'Semyon', 200, 206, u'PERSON')\n",
      "(u'Son ya Son', 212, 222, u'WORK_OF_ART')\n",
      "(u'Poli', 230, 234, u'PERSON')\n"
     ]
    },
    {
     "name": "stderr",
     "output_type": "stream",
     "text": [
      "\n",
      "  1%|          | 204/21762 [00:06<12:19, 29.16it/s]\u001b[A\n",
      "  1%|          | 207/21762 [00:07<12:20, 29.09it/s]\u001b[A"
     ]
    },
    {
     "name": "stdout",
     "output_type": "stream",
     "text": [
      "(u'Mikhail', 238, 245, u'PERSON')\n",
      "(u'Po', 251, 253, u'PERSON')\n",
      "(u'Po', 267, 269, u'PERSON')\n",
      "(u' ', 292, 293, u'LOC')\n",
      "(u'Len', 293, 296, u'PERSON')\n",
      "(u'first', 300, 305, u'ORDINAL')\n",
      "(u'Li da  ', 313, 320, u'NORP')\n",
      "(u'Li', 323, 325, u'PERSON')\n",
      "(u'Arka dy Ivan', 347, 359, u'PERSON')\n",
      "(u'Razumi', 384, 390, u'ORG')\n",
      "(u'Vrazumi', 399, 406, u'PERSON')\n",
      "(u'Dmi', 412, 415, u'PERSON')\n",
      "(u'Porfir y Petrov', 431, 446, u'ORG')\n",
      "(u'Luz hin', 466, 473, u'PERSON')\n",
      "(u'Lebezyat', 492, 500, u'ORG')\n",
      "(u'Andrei  Semyon', 507, 521, u'PERSON')\n",
      "(u'Semyon', 531, 537, u'PERSON')\n",
      "(u'Zamyo', 542, 547, u'PERSON')\n",
      "(u'Alexan', 552, 558, u'NORP')\n",
      "(u'Grigor', 563, 569, u'GPE')\n",
      "(u'Nastas ya Petrov', 577, 593, u'ORG')\n",
      "(u'Nas', 612, 615, u'PERSON')\n",
      "(u'Nastas', 622, 628, u'ORG')\n",
      "(u'Alyon', 636, 641, u'PERSON')\n",
      "(u'Ivan', 644, 648, u'PERSON')\n",
      "(u'Lizaveta', 669, 677, u'PERSON')\n",
      "(u'Ivan', 679, 683, u'PERSON')\n",
      "(u'Ilya  Petrov', 704, 716, u'LAW')\n",
      "(u'Lip', 756, 759, u'PERSON')\n",
      "(u'Amal', 770, 774, u'PERSON')\n",
      "(u'Ivan', 778, 782, u'PERSON')\n",
      "(u'Ludwig', 800, 806, u'ORG')\n",
      "(u'Fyo dorovna Zossi', 816, 833, u'ORG')\n",
      "(u'first', 841, 846, u'ORDINAL')\n",
      "(u'Nikolai', 866, 873, u'PERSON')\n",
      "(u'Mikolai  Mikol', 900, 914, u'LOC')\n",
      "(u'Nikolash', 918, 926, u'GPE')\n",
      "(u'Raskolnikov', 939, 950, u'PERSON')\n",
      "(u' ', 998, 999, u'NORP')\n",
      "(u'Raskolniki', 1010, 1020, u'PERSON')\n",
      "(u'Old Believers', 1049, 1062, u'ORG')\n",
      "(u'the Russian Orthodox Church', 1083, 1110, u'ORG')\n",
      "(u'the seventeenth century', 1114, 1137, u'DATE')\n",
      "(u'Razumikhin', 0, 10, u'PERSON')\n",
      "(u'Lebezyatnikov', 0, 13, u'PERSON')\n",
      "(u' ', 42, 43, u'NORP')\n",
      "(u'Petersburg', 28, 38, u'GPE')\n",
      "(u'Saint Petersburg', 66, 82, u'GPE')\n",
      "(u'Petersburg', 111, 121, u'GPE')\n",
      "(u'Tsar Peter', 149, 159, u'PERSON')\n",
      "(u'the early eighteenth century', 173, 201, u'DATE')\n",
      "(u'Neva', 51, 55, u'GPE')\n",
      "(u'the Gulf of Finland', 76, 95, u'LOC')\n",
      "(u'Neva', 117, 121, u'GPE')\n",
      "(u'three', 135, 140, u'CARDINAL')\n",
      "(u'Neva', 153, 157, u'GPE')\n",
      "(u'Neva', 169, 173, u'GPE')\n",
      "(u'Nevka', 182, 187, u'GPE')\n",
      "(u'Neva', 54, 58, u'GPE')\n"
     ]
    },
    {
     "name": "stderr",
     "output_type": "stream",
     "text": [
      "\n",
      "  1%|          | 210/21762 [00:07<12:22, 29.05it/s]\u001b[A\n",
      "  1%|          | 213/21762 [00:07<12:24, 28.95it/s]\u001b[A"
     ]
    },
    {
     "name": "stdout",
     "output_type": "stream",
     "text": [
      "(u'two', 4, 7, u'CARDINAL')\n",
      "(u'Vasilievsky Island', 60, 78, u'LOC')\n",
      "(u'Neva', 91, 95, u'GPE')\n",
      "(u'the Little Neva', 100, 115, u'LOC')\n",
      "(u'Petersburg', 124, 134, u'GPE')\n",
      "(u'the Little Neva', 148, 163, u'LOC')\n",
      "(u'Neva', 17, 21, u'GPE')\n",
      "(u'Islands', 80, 87, u'LOC')\n"
     ]
    },
    {
     "name": "stderr",
     "output_type": "stream",
     "text": [
      "\n",
      "  1%|          | 216/21762 [00:07<12:29, 28.75it/s]\u001b[A\n",
      "  1%|          | 219/21762 [00:07<12:32, 28.62it/s]\u001b[A"
     ]
    },
    {
     "name": "stdout",
     "output_type": "stream",
     "text": [
      "(u'One', 5, 8, u'CARDINAL')\n",
      "(u'the beginning of July', 16, 37, u'DATE')\n",
      "(u'evening', 76, 83, u'TIME')\n",
      "(u'Sy Lane', 138, 145, u'FAC')\n",
      "(u'the Kn Bridge', 212, 225, u'FAC')\n"
     ]
    },
    {
     "name": "stderr",
     "output_type": "stream",
     "text": [
      "\n",
      "  1%|          | 223/21762 [00:07<12:31, 28.67it/s]\u001b[A\n",
      "  1%|          | 226/21762 [00:07<12:32, 28.64it/s]\u001b[A\n",
      "  1%|          | 229/21762 [00:07<12:32, 28.63it/s]\u001b[A"
     ]
    },
    {
     "name": "stdout",
     "output_type": "stream",
     "text": [
      "(u'daily', 42, 47, u'DATE')\n"
     ]
    },
    {
     "name": "stderr",
     "output_type": "stream",
     "text": [
      "\n",
      "  1%|          | 235/21762 [00:08<12:22, 29.00it/s]\u001b[A\n",
      "  1%|          | 240/21762 [00:08<12:16, 29.22it/s]\u001b[A\n",
      "  1%|          | 245/21762 [00:08<12:10, 29.45it/s]\u001b[A\n",
      "  1%|          | 251/21762 [00:08<12:02, 29.78it/s]\u001b[A\n",
      "  1%|          | 257/21762 [00:08<11:55, 30.07it/s]\u001b[A"
     ]
    },
    {
     "name": "stdout",
     "output_type": "stream",
     "text": [
      "(u'this past month', 27, 42, u'DATE')\n",
      "(u'a corner day', 52, 64, u'DATE')\n",
      "(u'and day', 68, 75, u'DATE')\n",
      "(u' ', 8, 9, u'NORP')\n"
     ]
    },
    {
     "name": "stderr",
     "output_type": "stream",
     "text": [
      "\n",
      "  1%|          | 262/21762 [00:08<11:55, 30.04it/s]\u001b[A"
     ]
    },
    {
     "name": "stdout",
     "output_type": "stream",
     "text": [
      "(u'summer', 115, 121, u'DATE')\n",
      "(u'Petersburger', 152, 164, u'PERSON')\n"
     ]
    },
    {
     "name": "stderr",
     "output_type": "stream",
     "text": [
      "\n",
      "  1%|          | 267/21762 [00:08<11:59, 29.87it/s]\u001b[A\n",
      "  1%|          | 271/21762 [00:09<12:00, 29.84it/s]\u001b[A"
     ]
    },
    {
     "name": "stdout",
     "output_type": "stream",
     "text": [
      "(u'the second day', 112, 126, u'DATE')\n",
      "(u'daytime', 122, 129, u'DATE')\n",
      "(u'Haymarket', 21, 30, u'PERSON')\n",
      "(u'Petersburg', 155, 165, u'GPE')\n"
     ]
    },
    {
     "name": "stderr",
     "output_type": "stream",
     "text": [
      "\n",
      "  1%|▏         | 275/21762 [00:09<11:58, 29.90it/s]\u001b[A\n",
      "  1%|▏         | 279/21762 [00:09<11:56, 29.99it/s]\u001b[A"
     ]
    },
    {
     "name": "stdout",
     "output_type": "stream",
     "text": [
      "(u'German', 202, 208, u'NORP')\n",
      "(u'Zimmerman', 26, 35, u'PERSON')\n"
     ]
    },
    {
     "name": "stderr",
     "output_type": "stream",
     "text": [
      "\n",
      "  1%|▏         | 284/21762 [00:09<11:51, 30.20it/s]\u001b[A\n",
      "  1%|▏         | 289/21762 [00:09<11:46, 30.39it/s]\u001b[A\n",
      "  1%|▏         | 294/21762 [00:09<11:46, 30.37it/s]\u001b[A"
     ]
    },
    {
     "name": "stdout",
     "output_type": "stream",
     "text": [
      "(u'a mile', 41, 47, u'QUANTITY')\n"
     ]
    },
    {
     "name": "stderr",
     "output_type": "stream",
     "text": [
      "\n",
      "  1%|▏         | 300/21762 [00:09<11:39, 30.67it/s]\u001b[A\n",
      "  1%|▏         | 306/21762 [00:09<11:34, 30.90it/s]\u001b[A"
     ]
    },
    {
     "name": "stdout",
     "output_type": "stream",
     "text": [
      "(u'seven hundred and thirty', 96, 120, u'CARDINAL')\n",
      "(u'a month later', 12, 25, u'DATE')\n",
      "(u' ', 38, 39, u'NORP')\n",
      "(u'one', 101, 104, u'CARDINAL')\n"
     ]
    },
    {
     "name": "stderr",
     "output_type": "stream",
     "text": [
      "\n",
      "  1%|▏         | 311/21762 [00:10<11:35, 30.84it/s]\u001b[A\n",
      "  1%|▏         | 316/21762 [00:10<11:32, 30.99it/s]\u001b[A"
     ]
    },
    {
     "name": "stdout",
     "output_type": "stream",
     "text": [
      "(u'Germans', 123, 130, u'NORP')\n",
      "(u'Three', 0, 5, u'CARDINAL')\n",
      "(u'four', 9, 13, u'CARDINAL')\n",
      "(u'one', 51, 54, u'CARDINAL')\n"
     ]
    },
    {
     "name": "stderr",
     "output_type": "stream",
     "text": [
      "\n",
      "  1%|▏         | 321/21762 [00:10<11:30, 31.04it/s]\u001b[A\n",
      "  1%|▏         | 326/21762 [00:10<11:26, 31.22it/s]\u001b[A"
     ]
    },
    {
     "name": "stdout",
     "output_type": "stream",
     "text": [
      "(u'fourth', 41, 47, u'ORDINAL')\n",
      "(u'one', 86, 89, u'CARDINAL')\n",
      "(u'German', 35, 41, u'NORP')\n",
      "(u'German', 117, 123, u'NORP')\n",
      "(u'fourth', 166, 172, u'ORDINAL')\n"
     ]
    },
    {
     "name": "stderr",
     "output_type": "stream",
     "text": [
      "\n",
      "  2%|▏         | 331/21762 [00:10<11:23, 31.38it/s]\u001b[A\n",
      "  2%|▏         | 336/21762 [00:10<11:20, 31.47it/s]\u001b[A\n",
      "  2%|▏         | 341/21762 [00:10<11:21, 31.45it/s]\u001b[A"
     ]
    },
    {
     "name": "stdout",
     "output_type": "stream",
     "text": [
      "(u'about sixty', 33, 44, u'DATE')\n"
     ]
    },
    {
     "name": "stderr",
     "output_type": "stream",
     "text": [
      "\n",
      "  2%|▏         | 345/21762 [00:11<11:23, 31.34it/s]\u001b[A\n",
      "  2%|▏         | 350/21762 [00:11<11:20, 31.46it/s]\u001b[A"
     ]
    },
    {
     "name": "stdout",
     "output_type": "stream",
     "text": [
      "(u'Raskolnikov', 0, 11, u'PERSON')\n",
      "(u'a month ago', 33, 44, u'DATE')\n",
      "(u'half', 85, 89, u'CARDINAL')\n",
      "(u'Raskolnikov', 0, 11, u'PERSON')\n"
     ]
    },
    {
     "name": "stderr",
     "output_type": "stream",
     "text": [
      "\n",
      "  2%|▏         | 355/21762 [00:11<11:17, 31.58it/s]\u001b[A\n",
      "  2%|▏         | 361/21762 [00:11<11:14, 31.74it/s]\u001b[A\n"
     ]
    },
    {
     "name": "stdout",
     "output_type": "stream",
     "text": [
      "(u'Raskolnikovs', 34, 46, u'PERSON')\n",
      "(u'two', 229, 232, u'CARDINAL')\n",
      "(u'three', 236, 241, u'CARDINAL')\n",
      "(u'German', 287, 293, u'NORP')\n",
      "(u'Speck', 16, 21, u'PERSON')\n"
     ]
    },
    {
     "name": "stderr",
     "output_type": "stream",
     "text": [
      "  2%|▏         | 366/21762 [00:11<11:14, 31.71it/s]\u001b[A\n",
      "  2%|▏         | 370/21762 [00:11<11:15, 31.66it/s]\u001b[A\n",
      "  2%|▏         | 374/21762 [00:11<11:14, 31.71it/s]\u001b[A"
     ]
    },
    {
     "name": "stdout",
     "output_type": "stream",
     "text": [
      "(u'Raskolnikov', 51, 62, u'PERSON')\n",
      "(u'second', 174, 180, u'ORDINAL')\n",
      "(u'two', 39, 42, u'CARDINAL')\n"
     ]
    },
    {
     "name": "stderr",
     "output_type": "stream",
     "text": [
      "\n",
      "  2%|▏         | 378/21762 [00:11<11:13, 31.73it/s]\u001b[A\n",
      "  2%|▏         | 383/21762 [00:12<11:10, 31.87it/s]\u001b[A"
     ]
    },
    {
     "name": "stdout",
     "output_type": "stream",
     "text": [
      "(u'a month', 7, 14, u'DATE')\n",
      "(u'the day before yesterday', 18, 42, u'DATE')\n",
      "(u'another month', 26, 39, u'DATE')\n",
      "(u'Ill', 33, 36, u'PERSON')\n",
      "(u'Alyona Ivanovna', 37, 52, u'PERSON')\n",
      "(u'two', 21, 24, u'CARDINAL')\n",
      "(u'one', 65, 68, u'CARDINAL')\n",
      "(u'a half', 105, 111, u'CARDINAL')\n",
      "(u'four', 8, 12, u'CARDINAL')\n",
      "(u'half', 15, 19, u'CARDINAL')\n"
     ]
    },
    {
     "name": "stderr",
     "output_type": "stream",
     "text": [
      "\n",
      "  2%|▏         | 388/21762 [00:12<11:08, 31.98it/s]\u001b[A\n",
      "  2%|▏         | 393/21762 [00:12<11:06, 32.06it/s]\u001b[A"
     ]
    },
    {
     "name": "stdout",
     "output_type": "stream",
     "text": [
      "(u'half', 15, 19, u'CARDINAL')\n"
     ]
    },
    {
     "name": "stderr",
     "output_type": "stream",
     "text": [
      "\n",
      "  2%|▏         | 399/21762 [00:12<11:02, 32.23it/s]\u001b[A\n",
      "  2%|▏         | 405/21762 [00:12<10:58, 32.44it/s]\u001b[A"
     ]
    },
    {
     "name": "stdout",
     "output_type": "stream",
     "text": [
      "(u'one', 7, 10, u'CARDINAL')\n",
      "(u'one', 11, 14, u'CARDINAL')\n",
      "(u'three', 39, 44, u'CARDINAL')\n"
     ]
    },
    {
     "name": "stderr",
     "output_type": "stream",
     "text": [
      "\n",
      "  2%|▏         | 410/21762 [00:12<10:56, 32.51it/s]\u001b[A\n",
      "  2%|▏         | 415/21762 [00:12<10:59, 32.37it/s]\u001b[A\n",
      "  2%|▏         | 419/21762 [00:12<10:58, 32.39it/s]\u001b[A\n",
      "  2%|▏         | 424/21762 [00:13<10:56, 32.50it/s]\u001b[A"
     ]
    },
    {
     "name": "stdout",
     "output_type": "stream",
     "text": [
      "(u'ten kopecks', 27, 38, u'DATE')\n",
      "(u'fifteen', 76, 83, u'QUANTITY')\n",
      "(u'a half', 108, 114, u'CARDINAL')\n",
      "(u'the month', 119, 128, u'DATE')\n",
      "(u'twenty kopecks', 20, 34, u'QUANTITY')\n",
      "(u'two', 74, 77, u'QUANTITY')\n",
      "(u'fifteen', 40, 47, u'CARDINAL')\n",
      "(u'fifteen', 26, 33, u'CARDINAL')\n"
     ]
    },
    {
     "name": "stderr",
     "output_type": "stream",
     "text": [
      "\n",
      "  2%|▏         | 428/21762 [00:13<10:56, 32.50it/s]\u001b[A\n",
      "  2%|▏         | 433/21762 [00:13<10:53, 32.66it/s]\u001b[A"
     ]
    },
    {
     "name": "stdout",
     "output_type": "stream",
     "text": [
      "(u'One', 0, 3, u'CARDINAL')\n",
      "(u'Alyona Ivanovna', 18, 33, u'PERSON')\n"
     ]
    },
    {
     "name": "stderr",
     "output_type": "stream",
     "text": [
      "\n",
      "  2%|▏         | 439/21762 [00:13<10:49, 32.83it/s]\u001b[A\n",
      "  2%|▏         | 444/21762 [00:13<10:50, 32.79it/s]\u001b[A\n",
      "  2%|▏         | 449/21762 [00:13<10:47, 32.90it/s]\u001b[A\n",
      "  2%|▏         | 454/21762 [00:13<10:45, 32.99it/s]\u001b[A\n",
      "  2%|▏         | 459/21762 [00:13<10:44, 33.07it/s]\u001b[A\n",
      "  2%|▏         | 464/21762 [00:13<10:42, 33.16it/s]\u001b[A"
     ]
    },
    {
     "name": "stdout",
     "output_type": "stream",
     "text": [
      "(u'Raskolnikov', 0, 11, u'PERSON')\n"
     ]
    },
    {
     "name": "stderr",
     "output_type": "stream",
     "text": [
      "\n",
      "  2%|▏         | 469/21762 [00:14<10:40, 33.25it/s]\u001b[A\n",
      "  2%|▏         | 474/21762 [00:14<10:39, 33.28it/s]\u001b[A\n",
      "  2%|▏         | 479/21762 [00:14<10:38, 33.33it/s]\u001b[A"
     ]
    },
    {
     "name": "stdout",
     "output_type": "stream",
     "text": [
      "(u'the whole month', 8, 23, u'DATE')\n"
     ]
    },
    {
     "name": "stderr",
     "output_type": "stream",
     "text": [
      "\n",
      "  2%|▏         | 484/21762 [00:14<10:39, 33.30it/s]\u001b[A\n",
      "  2%|▏         | 488/21762 [00:14<10:39, 33.27it/s]\u001b[A"
     ]
    },
    {
     "name": "stdout",
     "output_type": "stream",
     "text": [
      "(u'two', 20, 23, u'CARDINAL')\n",
      "(u'Raskolnikov', 24, 35, u'PERSON')\n",
      "(u'first', 102, 107, u'ORDINAL')\n"
     ]
    },
    {
     "name": "stderr",
     "output_type": "stream",
     "text": [
      "\n",
      "  2%|▏         | 493/21762 [00:14<10:37, 33.37it/s]\u001b[A\n",
      "  2%|▏         | 497/21762 [00:14<10:37, 33.36it/s]\u001b[A"
     ]
    },
    {
     "name": "stdout",
     "output_type": "stream",
     "text": [
      "(u'One', 0, 3, u'CARDINAL')\n",
      "(u'Pah', 0, 3, u'PERSON')\n"
     ]
    },
    {
     "name": "stderr",
     "output_type": "stream",
     "text": [
      "\n",
      "  2%|▏         | 501/21762 [00:15<10:39, 33.26it/s]\u001b[A"
     ]
    },
    {
     "name": "stdout",
     "output_type": "stream",
     "text": [
      "(u'two', 15, 18, u'CARDINAL')\n",
      "(u'five', 84, 88, u'CARDINAL')\n",
      "(u'one', 104, 107, u'CARDINAL')\n",
      "(u'one', 15, 18, u'CARDINAL')\n",
      "(u'Down Podyacheskaya', 28, 46, u'PERSON')\n"
     ]
    },
    {
     "name": "stderr",
     "output_type": "stream",
     "text": [
      "\n",
      "  2%|▏         | 506/21762 [00:15<10:38, 33.31it/s]\u001b[A\n",
      "  2%|▏         | 510/21762 [00:15<10:37, 33.34it/s]\u001b[A\n",
      "  2%|▏         | 514/21762 [00:15<10:36, 33.37it/s]\u001b[A"
     ]
    },
    {
     "name": "stdout",
     "output_type": "stream",
     "text": [
      "(u'Raskolnikov', 4, 15, u'PERSON')\n",
      "(u'a whole month', 6, 19, u'DATE')\n",
      "(u'first', 199, 204, u'ORDINAL')\n",
      "(u'about fourteen', 32, 46, u'CARDINAL')\n"
     ]
    },
    {
     "name": "stderr",
     "output_type": "stream",
     "text": [
      "\n",
      "  2%|▏         | 518/21762 [00:15<10:35, 33.40it/s]\u001b[A\n",
      "  2%|▏         | 522/21762 [00:15<10:35, 33.43it/s]\u001b[A"
     ]
    },
    {
     "name": "stdout",
     "output_type": "stream",
     "text": [
      "(u'five minutes', 145, 157, u'TIME')\n",
      "(u'Raskolnikov', 42, 53, u'PERSON')\n",
      "(u'first', 34, 39, u'ORDINAL')\n",
      "(u'fifty', 26, 31, u'CARDINAL')\n"
     ]
    },
    {
     "name": "stderr",
     "output_type": "stream",
     "text": [
      "\n",
      "  2%|▏         | 526/21762 [00:15<10:35, 33.43it/s]\u001b[A\n",
      "  2%|▏         | 531/21762 [00:15<10:34, 33.49it/s]\u001b[A"
     ]
    },
    {
     "name": "stdout",
     "output_type": "stream",
     "text": [
      "(u'Only one', 0, 8, u'CARDINAL')\n",
      "(u'Raskolnikov', 30, 41, u'ORG')\n",
      "(u'May', 69, 72, u'DATE')\n",
      "(u'one', 111, 114, u'CARDINAL')\n"
     ]
    },
    {
     "name": "stderr",
     "output_type": "stream",
     "text": [
      "\n",
      "  2%|▏         | 536/21762 [00:15<10:32, 33.55it/s]\u001b[A\n",
      "  2%|▏         | 541/21762 [00:16<10:30, 33.65it/s]\u001b[A\n",
      "  3%|▎         | 546/21762 [00:16<10:28, 33.74it/s]\u001b[A\n",
      "  3%|▎         | 552/21762 [00:16<10:26, 33.86it/s]\u001b[A\n",
      "  3%|▎         | 557/21762 [00:16<10:26, 33.86it/s]\u001b[A"
     ]
    },
    {
     "name": "stdout",
     "output_type": "stream",
     "text": [
      "(u'Raskolnikov', 18, 29, u'PERSON')\n",
      "(u'a whole month', 102, 115, u'DATE')\n",
      "(u'first', 177, 182, u'ORDINAL')\n"
     ]
    },
    {
     "name": "stderr",
     "output_type": "stream",
     "text": [
      "\n",
      "  3%|▎         | 562/21762 [00:16<10:25, 33.90it/s]\u001b[A\n",
      "  3%|▎         | 567/21762 [00:16<10:23, 33.98it/s]\u001b[A"
     ]
    },
    {
     "name": "stdout",
     "output_type": "stream",
     "text": [
      "(u'a month ago', 12, 23, u'DATE')\n",
      "(u'Lebezyatnikov', 0, 13, u'PERSON')\n",
      "(u'nights', 103, 109, u'TIME')\n",
      "(u'Neva', 117, 121, u'GPE')\n",
      "(u'Raskolnikov', 9, 20, u'PERSON')\n",
      "(u'the fifth night', 55, 70, u'TIME')\n"
     ]
    },
    {
     "name": "stderr",
     "output_type": "stream",
     "text": [
      "\n",
      "  3%|▎         | 572/21762 [00:16<10:25, 33.87it/s]\u001b[A\n",
      "  3%|▎         | 576/21762 [00:17<10:26, 33.79it/s]\u001b[A"
     ]
    },
    {
     "name": "stdout",
     "output_type": "stream",
     "text": [
      "(u'five days', 63, 72, u'DATE')\n",
      "(u'Marmeladov', 20, 30, u'PERSON')\n"
     ]
    },
    {
     "name": "stderr",
     "output_type": "stream",
     "text": [
      "\n",
      "  3%|▎         | 580/21762 [00:17<10:28, 33.72it/s]\u001b[A\n",
      "  3%|▎         | 584/21762 [00:17<10:29, 33.66it/s]\u001b[A\n",
      "  3%|▎         | 588/21762 [00:17<10:28, 33.68it/s]\u001b[A"
     ]
    },
    {
     "name": "stdout",
     "output_type": "stream",
     "text": [
      "(u'Marmeladov', 0, 10, u'PERSON')\n",
      "(u'Raskolnikov', 32, 43, u'PERSON')\n",
      "(u'Lebezyatnikov', 0, 13, u'PERSON')\n",
      "(u'a month ago', 37, 48, u'DATE')\n"
     ]
    },
    {
     "name": "stderr",
     "output_type": "stream",
     "text": [
      "\n",
      "  3%|▎         | 593/21762 [00:17<10:26, 33.77it/s]\u001b[A\n",
      "  3%|▎         | 598/21762 [00:17<10:25, 33.81it/s]\u001b[A\n",
      "  3%|▎         | 603/21762 [00:17<10:24, 33.88it/s]\u001b[A\n",
      "  3%|▎         | 607/21762 [00:17<10:23, 33.91it/s]\u001b[A\n",
      "  3%|▎         | 612/21762 [00:18<10:22, 33.99it/s]\u001b[A"
     ]
    },
    {
     "name": "stdout",
     "output_type": "stream",
     "text": [
      "(u'Lebezyatnikov', 0, 13, u'PERSON')\n",
      "(u'the other day', 54, 67, u'DATE')\n",
      "(u'England', 152, 159, u'GPE')\n",
      "(u'Raskolnikov', 0, 11, u'PERSON')\n"
     ]
    },
    {
     "name": "stderr",
     "output_type": "stream",
     "text": [
      "\n",
      "  3%|▎         | 617/21762 [00:18<10:21, 34.05it/s]\u001b[A"
     ]
    },
    {
     "name": "stdout",
     "output_type": "stream",
     "text": [
      "(u'one', 25, 28, u'CARDINAL')\n",
      "(u'first', 47, 52, u'ORDINAL')\n"
     ]
    },
    {
     "name": "stderr",
     "output_type": "stream",
     "text": [
      "\n",
      "  3%|▎         | 623/21762 [00:18<10:18, 34.16it/s]\u001b[A\n",
      "  3%|▎         | 628/21762 [00:18<10:17, 34.24it/s]\u001b[A\n",
      "  3%|▎         | 633/21762 [00:18<10:16, 34.29it/s]\u001b[A"
     ]
    },
    {
     "name": "stdout",
     "output_type": "stream",
     "text": [
      "(u'Behold', 0, 6, u'PERSON')\n",
      "(u' ', 93, 94, u'NORP')\n",
      "(u'this hour', 113, 122, u'TIME')\n",
      "(u'Katerina Ivanovna', 32, 49, u'PERSON')\n"
     ]
    },
    {
     "name": "stderr",
     "output_type": "stream",
     "text": [
      "\n",
      "  3%|▎         | 638/21762 [00:18<10:15, 34.35it/s]\u001b[A\n",
      "  3%|▎         | 643/21762 [00:18<10:14, 34.36it/s]\u001b[A"
     ]
    },
    {
     "name": "stdout",
     "output_type": "stream",
     "text": [
      "(u'Granted', 0, 7, u'ORG')\n",
      "(u'at least one', 64, 76, u'CARDINAL')\n",
      "(u'Katerina Ivanovna', 4, 21, u'PERSON')\n"
     ]
    },
    {
     "name": "stderr",
     "output_type": "stream",
     "text": [
      "\n",
      "  3%|▎         | 648/21762 [00:18<10:13, 34.41it/s]\u001b[A\n",
      "  3%|▎         | 654/21762 [00:18<10:11, 34.54it/s]\u001b[A\n",
      "  3%|▎         | 660/21762 [00:19<10:09, 34.64it/s]\u001b[A\n",
      "  3%|▎         | 665/21762 [00:19<10:09, 34.62it/s]\u001b[A"
     ]
    },
    {
     "name": "stdout",
     "output_type": "stream",
     "text": [
      "(u'Marmeladov', 0, 10, u'PERSON')\n",
      "(u'this winter', 96, 107, u'DATE')\n",
      "(u'three', 12, 17, u'CARDINAL')\n",
      "(u'Katerina Ivanovna', 37, 54, u'PERSON')\n"
     ]
    },
    {
     "name": "stderr",
     "output_type": "stream",
     "text": [
      "\n",
      "  3%|▎         | 670/21762 [00:19<10:10, 34.54it/s]\u001b[A\n",
      "  3%|▎         | 674/21762 [00:19<10:10, 34.53it/s]\u001b[A\n"
     ]
    },
    {
     "ename": "KeyboardInterrupt",
     "evalue": "",
     "output_type": "error",
     "traceback": [
      "\u001b[0;31m---------------------------------------------------------------------------\u001b[0m",
      "\u001b[0;31mKeyboardInterrupt\u001b[0m                         Traceback (most recent call last)",
      "\u001b[0;32m<ipython-input-8-cef762aa24c5>\u001b[0m in \u001b[0;36m<module>\u001b[0;34m()\u001b[0m\n\u001b[1;32m      1\u001b[0m \u001b[0;32mfrom\u001b[0m \u001b[0mtqdm\u001b[0m \u001b[0;32mimport\u001b[0m \u001b[0mtqdm\u001b[0m\u001b[0;34m\u001b[0m\u001b[0m\n\u001b[0;32m----> 2\u001b[0;31m \u001b[0;32mfor\u001b[0m \u001b[0mi\u001b[0m \u001b[0;32min\u001b[0m \u001b[0mtqdm\u001b[0m\u001b[0;34m(\u001b[0m\u001b[0mrange\u001b[0m\u001b[0;34m(\u001b[0m\u001b[0;36m0\u001b[0m\u001b[0;34m,\u001b[0m \u001b[0mlen\u001b[0m\u001b[0;34m(\u001b[0m\u001b[0msentences\u001b[0m\u001b[0;34m)\u001b[0m\u001b[0;34m)\u001b[0m\u001b[0;34m)\u001b[0m\u001b[0;34m:\u001b[0m\u001b[0;34m\u001b[0m\u001b[0m\n\u001b[0m\u001b[1;32m      3\u001b[0m     \u001b[0mtmp\u001b[0m \u001b[0;34m=\u001b[0m \u001b[0msentences\u001b[0m\u001b[0;34m[\u001b[0m\u001b[0mi\u001b[0m\u001b[0;34m]\u001b[0m\u001b[0;34m.\u001b[0m\u001b[0mdecode\u001b[0m\u001b[0;34m(\u001b[0m\u001b[0;34m'unicode-escape'\u001b[0m\u001b[0;34m)\u001b[0m\u001b[0;34m\u001b[0m\u001b[0m\n\u001b[1;32m      4\u001b[0m     \u001b[0mdoc\u001b[0m \u001b[0;34m=\u001b[0m \u001b[0mnlp\u001b[0m\u001b[0;34m(\u001b[0m\u001b[0mtmp\u001b[0m\u001b[0;34m)\u001b[0m\u001b[0;34m\u001b[0m\u001b[0m\n\u001b[1;32m      5\u001b[0m     \u001b[0;32mfor\u001b[0m \u001b[0ment\u001b[0m \u001b[0;32min\u001b[0m \u001b[0mdoc\u001b[0m\u001b[0;34m.\u001b[0m\u001b[0ments\u001b[0m\u001b[0;34m:\u001b[0m\u001b[0;34m\u001b[0m\u001b[0m\n",
      "\u001b[0;32m/usr/local/lib/python2.7/dist-packages/tqdm/_tqdm.pyc\u001b[0m in \u001b[0;36m__iter__\u001b[0;34m(self)\u001b[0m\n\u001b[1;32m    950\u001b[0m                         \u001b[0;32mwith\u001b[0m \u001b[0mself\u001b[0m\u001b[0;34m.\u001b[0m\u001b[0m_lock\u001b[0m\u001b[0;34m:\u001b[0m\u001b[0;34m\u001b[0m\u001b[0m\n\u001b[1;32m    951\u001b[0m                             \u001b[0;32mif\u001b[0m \u001b[0mself\u001b[0m\u001b[0;34m.\u001b[0m\u001b[0mpos\u001b[0m\u001b[0;34m:\u001b[0m\u001b[0;34m\u001b[0m\u001b[0m\n\u001b[0;32m--> 952\u001b[0;31m                                 \u001b[0mself\u001b[0m\u001b[0;34m.\u001b[0m\u001b[0mmoveto\u001b[0m\u001b[0;34m(\u001b[0m\u001b[0mabs\u001b[0m\u001b[0;34m(\u001b[0m\u001b[0mself\u001b[0m\u001b[0;34m.\u001b[0m\u001b[0mpos\u001b[0m\u001b[0;34m)\u001b[0m\u001b[0;34m)\u001b[0m\u001b[0;34m\u001b[0m\u001b[0m\n\u001b[0m\u001b[1;32m    953\u001b[0m                             \u001b[0;31m# Print bar update\u001b[0m\u001b[0;34m\u001b[0m\u001b[0;34m\u001b[0m\u001b[0m\n\u001b[1;32m    954\u001b[0m                             \u001b[0msp\u001b[0m\u001b[0;34m(\u001b[0m\u001b[0mself\u001b[0m\u001b[0;34m.\u001b[0m\u001b[0m__repr__\u001b[0m\u001b[0;34m(\u001b[0m\u001b[0;34m)\u001b[0m\u001b[0;34m)\u001b[0m\u001b[0;34m\u001b[0m\u001b[0m\n",
      "\u001b[0;32m/usr/local/lib/python2.7/dist-packages/tqdm/_tqdm.pyc\u001b[0m in \u001b[0;36mmoveto\u001b[0;34m(self, n)\u001b[0m\n\u001b[1;32m   1195\u001b[0m     \u001b[0;32mdef\u001b[0m \u001b[0mmoveto\u001b[0m\u001b[0;34m(\u001b[0m\u001b[0mself\u001b[0m\u001b[0;34m,\u001b[0m \u001b[0mn\u001b[0m\u001b[0;34m)\u001b[0m\u001b[0;34m:\u001b[0m\u001b[0;34m\u001b[0m\u001b[0m\n\u001b[1;32m   1196\u001b[0m         \u001b[0mself\u001b[0m\u001b[0;34m.\u001b[0m\u001b[0mfp\u001b[0m\u001b[0;34m.\u001b[0m\u001b[0mwrite\u001b[0m\u001b[0;34m(\u001b[0m\u001b[0m_unicode\u001b[0m\u001b[0;34m(\u001b[0m\u001b[0;34m'\\n'\u001b[0m \u001b[0;34m*\u001b[0m \u001b[0mn\u001b[0m \u001b[0;34m+\u001b[0m \u001b[0m_term_move_up\u001b[0m\u001b[0;34m(\u001b[0m\u001b[0;34m)\u001b[0m \u001b[0;34m*\u001b[0m \u001b[0;34m-\u001b[0m\u001b[0mn\u001b[0m\u001b[0;34m)\u001b[0m\u001b[0;34m)\u001b[0m\u001b[0;34m\u001b[0m\u001b[0m\n\u001b[0;32m-> 1197\u001b[0;31m         \u001b[0mself\u001b[0m\u001b[0;34m.\u001b[0m\u001b[0mfp\u001b[0m\u001b[0;34m.\u001b[0m\u001b[0mflush\u001b[0m\u001b[0;34m(\u001b[0m\u001b[0;34m)\u001b[0m\u001b[0;34m\u001b[0m\u001b[0m\n\u001b[0m\u001b[1;32m   1198\u001b[0m \u001b[0;34m\u001b[0m\u001b[0m\n\u001b[1;32m   1199\u001b[0m     \u001b[0;32mdef\u001b[0m \u001b[0mclear\u001b[0m\u001b[0;34m(\u001b[0m\u001b[0mself\u001b[0m\u001b[0;34m,\u001b[0m \u001b[0mnolock\u001b[0m\u001b[0;34m=\u001b[0m\u001b[0mFalse\u001b[0m\u001b[0;34m)\u001b[0m\u001b[0;34m:\u001b[0m\u001b[0;34m\u001b[0m\u001b[0m\n",
      "\u001b[0;32m/usr/local/lib/python2.7/dist-packages/ipykernel/iostream.pyc\u001b[0m in \u001b[0;36mflush\u001b[0;34m(self)\u001b[0m\n\u001b[1;32m    267\u001b[0m             \u001b[0mevt\u001b[0m \u001b[0;34m=\u001b[0m \u001b[0mthreading\u001b[0m\u001b[0;34m.\u001b[0m\u001b[0mEvent\u001b[0m\u001b[0;34m(\u001b[0m\u001b[0;34m)\u001b[0m\u001b[0;34m\u001b[0m\u001b[0m\n\u001b[1;32m    268\u001b[0m             \u001b[0mself\u001b[0m\u001b[0;34m.\u001b[0m\u001b[0m_io_loop\u001b[0m\u001b[0;34m.\u001b[0m\u001b[0madd_callback\u001b[0m\u001b[0;34m(\u001b[0m\u001b[0mevt\u001b[0m\u001b[0;34m.\u001b[0m\u001b[0mset\u001b[0m\u001b[0;34m)\u001b[0m\u001b[0;34m\u001b[0m\u001b[0m\n\u001b[0;32m--> 269\u001b[0;31m             \u001b[0mevt\u001b[0m\u001b[0;34m.\u001b[0m\u001b[0mwait\u001b[0m\u001b[0;34m(\u001b[0m\u001b[0;34m)\u001b[0m\u001b[0;34m\u001b[0m\u001b[0m\n\u001b[0m\u001b[1;32m    270\u001b[0m         \u001b[0;32melse\u001b[0m\u001b[0;34m:\u001b[0m\u001b[0;34m\u001b[0m\u001b[0m\n\u001b[1;32m    271\u001b[0m             \u001b[0mself\u001b[0m\u001b[0;34m.\u001b[0m\u001b[0m_flush\u001b[0m\u001b[0;34m(\u001b[0m\u001b[0;34m)\u001b[0m\u001b[0;34m\u001b[0m\u001b[0m\n",
      "\u001b[0;32m/usr/lib/python2.7/threading.pyc\u001b[0m in \u001b[0;36mwait\u001b[0;34m(self, timeout)\u001b[0m\n\u001b[1;32m    618\u001b[0m         \u001b[0;32mtry\u001b[0m\u001b[0;34m:\u001b[0m\u001b[0;34m\u001b[0m\u001b[0m\n\u001b[1;32m    619\u001b[0m             \u001b[0;32mif\u001b[0m \u001b[0;32mnot\u001b[0m \u001b[0mself\u001b[0m\u001b[0;34m.\u001b[0m\u001b[0m__flag\u001b[0m\u001b[0;34m:\u001b[0m\u001b[0;34m\u001b[0m\u001b[0m\n\u001b[0;32m--> 620\u001b[0;31m                 \u001b[0mself\u001b[0m\u001b[0;34m.\u001b[0m\u001b[0m__cond\u001b[0m\u001b[0;34m.\u001b[0m\u001b[0mwait\u001b[0m\u001b[0;34m(\u001b[0m\u001b[0mtimeout\u001b[0m\u001b[0;34m)\u001b[0m\u001b[0;34m\u001b[0m\u001b[0m\n\u001b[0m\u001b[1;32m    621\u001b[0m             \u001b[0;32mreturn\u001b[0m \u001b[0mself\u001b[0m\u001b[0;34m.\u001b[0m\u001b[0m__flag\u001b[0m\u001b[0;34m\u001b[0m\u001b[0m\n\u001b[1;32m    622\u001b[0m         \u001b[0;32mfinally\u001b[0m\u001b[0;34m:\u001b[0m\u001b[0;34m\u001b[0m\u001b[0m\n",
      "\u001b[0;32m/usr/lib/python2.7/threading.pyc\u001b[0m in \u001b[0;36mwait\u001b[0;34m(self, timeout)\u001b[0m\n\u001b[1;32m    337\u001b[0m         \u001b[0;32mtry\u001b[0m\u001b[0;34m:\u001b[0m    \u001b[0;31m# restore state no matter what (e.g., KeyboardInterrupt)\u001b[0m\u001b[0;34m\u001b[0m\u001b[0m\n\u001b[1;32m    338\u001b[0m             \u001b[0;32mif\u001b[0m \u001b[0mtimeout\u001b[0m \u001b[0;32mis\u001b[0m \u001b[0mNone\u001b[0m\u001b[0;34m:\u001b[0m\u001b[0;34m\u001b[0m\u001b[0m\n\u001b[0;32m--> 339\u001b[0;31m                 \u001b[0mwaiter\u001b[0m\u001b[0;34m.\u001b[0m\u001b[0macquire\u001b[0m\u001b[0;34m(\u001b[0m\u001b[0;34m)\u001b[0m\u001b[0;34m\u001b[0m\u001b[0m\n\u001b[0m\u001b[1;32m    340\u001b[0m                 \u001b[0;32mif\u001b[0m \u001b[0m__debug__\u001b[0m\u001b[0;34m:\u001b[0m\u001b[0;34m\u001b[0m\u001b[0m\n\u001b[1;32m    341\u001b[0m                     \u001b[0mself\u001b[0m\u001b[0;34m.\u001b[0m\u001b[0m_note\u001b[0m\u001b[0;34m(\u001b[0m\u001b[0;34m\"%s.wait(): got it\"\u001b[0m\u001b[0;34m,\u001b[0m \u001b[0mself\u001b[0m\u001b[0;34m)\u001b[0m\u001b[0;34m\u001b[0m\u001b[0m\n",
      "\u001b[0;31mKeyboardInterrupt\u001b[0m: "
     ]
    }
   ],
   "source": [
    "from copy import copy\n",
    "from tqdm import tqdm\n",
    "for i in tqdm(range(0, len(sentences))):\n",
    "    tmp = sentences[i].decode('unicode-escape')\n",
    "    doc = nlp(tmp)\n",
    "    for ent in doc.ents:\n",
    "        "
   ]
  },
  {
   "cell_type": "code",
   "execution_count": 12,
   "metadata": {
    "collapsed": false
   },
   "outputs": [
    {
     "name": "stdout",
     "output_type": "stream",
     "text": [
      "(u'making', u'ROOT', u'VERB', u'making', [], [u'12', u'?'])\n",
      "(u'$', u'nmod', u'SYM', u'12', [], [])\n",
      "(u'12', u'dobj', u'NUM', u'making', [u'$'], [u'hour'])\n",
      "(u'an', u'det', u'DET', u'hour', [], [])\n",
      "(u'hour', u'npadvmod', u'NOUN', u'12', [u'an'], [])\n",
      "(u'?', u'punct', u'PUNCT', u'making', [], [])\n",
      "(u'where', u'advmod', u'ADV', u'go', [], [])\n",
      "(u'am', u'aux', u'VERB', u'going', [], [])\n",
      "(u'i', u'nsubj', u'PRON', u'going', [], [])\n",
      "(u'going', u'ROOT', u'VERB', u'going', [u'am', u'i'], [u'go', u'?'])\n",
      "(u'to', u'aux', u'PART', u'go', [], [])\n",
      "(u'go', u'xcomp', u'VERB', u'going', [u'where', u'to'], [])\n",
      "(u'?', u'punct', u'PUNCT', u'going', [], [])\n",
      "(u'i', u'nsubj', u'PRON', u'have', [], [])\n",
      "(u'have', u'ROOT', u'VERB', u'have', [u'i'], [u'assistance', u'and', u'provide'])\n",
      "(u'no', u'det', u'DET', u'assistance', [], [])\n",
      "(u'other', u'amod', u'ADJ', u'assistance', [], [])\n",
      "(u'financial', u'amod', u'ADJ', u'assistance', [], [])\n",
      "(u'assistance', u'dobj', u'NOUN', u'have', [u'no', u'other', u'financial'], [u'available'])\n",
      "(u'available', u'amod', u'ADJ', u'assistance', [], [])\n",
      "(u'and', u'cc', u'CCONJ', u'have', [], [])\n",
      "(u'he', u'nsubj', u'PRON', u'provide', [], [])\n",
      "(u'certainly', u'advmod', u'ADV', u'provide', [], [])\n",
      "(u'wo', u'aux', u'VERB', u'provide', [], [])\n",
      "(u\"n't\", u'neg', u'ADV', u'provide', [], [])\n",
      "(u'provide', u'conj', u'VERB', u'have', [u'he', u'certainly', u'wo', u\"n't\"], [u'support', u'.'])\n",
      "(u'support', u'dobj', u'NOUN', u'provide', [], [])\n",
      "(u'.', u'punct', u'PUNCT', u'provide', [], [])\n",
      "[(u'i', u'!have', u'assistance'), (u'he', u'!provide', u'support')]\n",
      "(u'i', u'nsubj', u'PRON', u'have', [], [])\n",
      "(u'do', u'aux', u'VERB', u'have', [], [])\n",
      "(u\"n't\", u'neg', u'ADV', u'have', [], [])\n",
      "(u'have', u'ROOT', u'VERB', u'have', [u'i', u'do', u\"n't\"], [u'assistance'])\n",
      "(u'other', u'amod', u'ADJ', u'assistance', [], [])\n",
      "(u'assistance', u'dobj', u'NOUN', u'have', [u'other'], [])\n",
      "-----------------------------------------------\n",
      "(u'They', u'nsubj', u'PRON', u'ate', [], [])\n",
      "(u'ate', u'ROOT', u'VERB', u'ate', [u'They'], [u'pizza', u'with', u'.'])\n",
      "(u'the', u'det', u'DET', u'pizza', [], [])\n",
      "(u'pizza', u'dobj', u'NOUN', u'ate', [u'the'], [])\n",
      "(u'with', u'prep', u'ADP', u'ate', [], [u'anchovies'])\n",
      "(u'anchovies', u'pobj', u'NOUN', u'with', [], [])\n",
      "(u'.', u'punct', u'PUNCT', u'ate', [], [])\n",
      "[(u'they', u'ate', u'pizza')]\n",
      "--------------------------------------------------\n",
      "(u'I', u'nsubj', u'PRON', u'have', [], [])\n",
      "(u'have', u'ROOT', u'VERB', u'have', [u'I'], [u'assistance', u'and', u'provide'])\n",
      "(u'no', u'det', u'DET', u'assistance', [], [])\n",
      "(u'other', u'amod', u'ADJ', u'assistance', [], [])\n",
      "(u'financial', u'amod', u'ADJ', u'assistance', [], [])\n",
      "(u'assistance', u'dobj', u'NOUN', u'have', [u'no', u'other', u'financial'], [u'available'])\n",
      "(u'available', u'amod', u'ADJ', u'assistance', [], [])\n",
      "(u'and', u'cc', u'CCONJ', u'have', [], [])\n",
      "(u'he', u'nsubj', u'PRON', u'provide', [], [])\n",
      "(u'certainly', u'advmod', u'ADV', u'provide', [], [])\n",
      "(u'wo', u'aux', u'VERB', u'provide', [], [])\n",
      "(u\"n't\", u'neg', u'ADV', u'provide', [], [])\n",
      "(u'provide', u'conj', u'VERB', u'have', [u'he', u'certainly', u'wo', u\"n't\"], [u'support', u'.'])\n",
      "(u'support', u'dobj', u'NOUN', u'provide', [], [])\n",
      "(u'.', u'punct', u'PUNCT', u'provide', [], [])\n",
      "[(u'i', u'!have', u'assistance'), (u'he', u'!provide', u'support')]\n",
      "--------------------------------------------------\n",
      "(u'I', u'nsubj', u'PRON', u'have', [], [])\n",
      "(u'have', u'ROOT', u'VERB', u'have', [u'I'], [u'assistance', u',', u'and', u'provide'])\n",
      "(u'no', u'det', u'DET', u'assistance', [], [])\n",
      "(u'other', u'amod', u'ADJ', u'assistance', [], [])\n",
      "(u'financial', u'amod', u'ADJ', u'assistance', [], [])\n",
      "(u'assistance', u'dobj', u'NOUN', u'have', [u'no', u'other', u'financial'], [u'available'])\n",
      "(u'available', u'amod', u'ADJ', u'assistance', [], [])\n",
      "(u',', u'punct', u'PUNCT', u'have', [], [])\n",
      "(u'and', u'cc', u'CCONJ', u'have', [], [])\n",
      "(u'he', u'nsubj', u'PRON', u'provide', [], [])\n",
      "(u'certainly', u'advmod', u'ADV', u'provide', [], [])\n",
      "(u'wo', u'aux', u'VERB', u'provide', [], [])\n",
      "(u\"n't\", u'neg', u'ADV', u'provide', [], [])\n",
      "(u'provide', u'conj', u'VERB', u'have', [u'he', u'certainly', u'wo', u\"n't\"], [u'support', u'.'])\n",
      "(u'support', u'dobj', u'NOUN', u'provide', [], [])\n",
      "(u'.', u'punct', u'PUNCT', u'provide', [], [])\n",
      "[(u'i', u'!have', u'assistance'), (u'he', u'!provide', u'support')]\n",
      "--------------------------------------------------\n",
      "(u'he', u'nsubj', u'PRON', u'kill', [], [])\n",
      "(u'did', u'aux', u'VERB', u'kill', [], [])\n",
      "(u'not', u'neg', u'ADV', u'kill', [], [])\n",
      "(u'kill', u'ROOT', u'VERB', u'kill', [u'he', u'did', u'not'], [u'me'])\n",
      "(u'me', u'dobj', u'PRON', u'kill', [], [])\n",
      "[(u'he', u'!kill', u'me')]\n",
      "--------------------------------------------------\n",
      "(u'he', u'nsubj', u'PRON', u'told', [], [])\n",
      "(u'told', u'ROOT', u'VERB', u'told', [u'he'], [u'me', u'die'])\n",
      "(u'me', u'dobj', u'PRON', u'told', [], [])\n",
      "(u'i', u'nsubj', u'PRON', u'die', [], [])\n",
      "(u'would', u'aux', u'VERB', u'die', [], [])\n",
      "(u'die', u'ccomp', u'VERB', u'told', [u'i', u'would'], [u'alone', u'with', u'someday'])\n",
      "(u'alone', u'advmod', u'ADV', u'die', [], [])\n",
      "(u'with', u'prep', u'ADP', u'die', [], [u'nothing'])\n",
      "(u'nothing', u'pobj', u'NOUN', u'with', [], [u'but'])\n",
      "(u'but', u'prep', u'CCONJ', u'nothing', [], [u'career'])\n",
      "(u'my', u'poss', u'ADJ', u'career', [], [])\n",
      "(u'career', u'pobj', u'NOUN', u'but', [u'my'], [])\n",
      "(u'someday', u'advmod', u'ADV', u'die', [], [])\n",
      "[(u'he', u'told', u'me')]\n",
      "--------------------------------------------------\n",
      "(u'I', u'nsubj', u'PRON', u'wanted', [], [])\n",
      "(u'wanted', u'ROOT', u'VERB', u'wanted', [u'I'], [u'kill', u'.'])\n",
      "(u'to', u'aux', u'PART', u'kill', [], [])\n",
      "(u'kill', u'xcomp', u'VERB', u'wanted', [u'to'], [u'him', u'with'])\n",
      "(u'him', u'dobj', u'PRON', u'kill', [], [])\n",
      "(u'with', u'prep', u'ADP', u'kill', [], [u'hammer'])\n",
      "(u'a', u'det', u'DET', u'hammer', [], [])\n",
      "(u'hammer', u'pobj', u'NOUN', u'with', [u'a'], [])\n",
      "(u'.', u'punct', u'PUNCT', u'wanted', [], [])\n",
      "[(u'i', u'kill', u'him')]\n",
      "--------------------------------------------------\n",
      "(u'because', u'mark', u'ADP', u'hit', [], [])\n",
      "(u'he', u'nsubj', u'PRON', u'hit', [], [])\n",
      "(u'hit', u'ROOT', u'VERB', u'hit', [u'because', u'he'], [u'me', u'and', u'made', u'.'])\n",
      "(u'me', u'dobj', u'PRON', u'hit', [], [])\n",
      "(u'and', u'cc', u'CCONJ', u'hit', [], [])\n",
      "(u'also', u'advmod', u'ADV', u'made', [], [])\n",
      "(u'made', u'conj', u'VERB', u'hit', [u'also'], [u'angry'])\n",
      "(u'me', u'nsubj', u'PRON', u'angry', [], [])\n",
      "(u'so', u'advmod', u'ADV', u'angry', [], [])\n",
      "(u'angry', u'ccomp', u'ADJ', u'made', [u'me', u'so'], [u'wanted'])\n",
      "(u'i', u'nsubj', u'PRON', u'wanted', [], [])\n",
      "(u'wanted', u'ccomp', u'VERB', u'angry', [u'i'], [u'kill'])\n",
      "(u'to', u'aux', u'PART', u'kill', [], [])\n",
      "(u'kill', u'xcomp', u'VERB', u'wanted', [u'to'], [u'him', u'with'])\n",
      "(u'him', u'dobj', u'PRON', u'kill', [], [])\n",
      "(u'with', u'prep', u'ADP', u'kill', [], [u'hammer'])\n",
      "(u'a', u'det', u'DET', u'hammer', [], [])\n",
      "(u'hammer', u'pobj', u'NOUN', u'with', [u'a'], [])\n",
      "(u'.', u'punct', u'PUNCT', u'hit', [], [])\n",
      "[(u'he', u'hit', u'me'), (u'i', u'kill', u'him')]\n",
      "--------------------------------------------------\n",
      "(u'he', u'nsubj', u'PRON', u'shot', [], [u'and', u'brother'])\n",
      "(u'and', u'cc', u'CCONJ', u'he', [], [])\n",
      "(u'his', u'poss', u'ADJ', u'brother', [], [])\n",
      "(u'brother', u'conj', u'NOUN', u'he', [u'his'], [])\n",
      "(u'shot', u'ROOT', u'VERB', u'shot', [u'he'], [u'me'])\n",
      "(u'me', u'dobj', u'PRON', u'shot', [], [])\n",
      "[(u'he', u'shot', u'me'), (u'brother', u'shot', u'me')]\n",
      "--------------------------------------------------\n",
      "(u'he', u'nsubj', u'PRON', u'shot', [], [u'and', u'brother'])\n",
      "(u'and', u'cc', u'CCONJ', u'he', [], [])\n",
      "(u'his', u'poss', u'ADJ', u'brother', [], [])\n",
      "(u'brother', u'conj', u'NOUN', u'he', [u'his'], [])\n",
      "(u'shot', u'ROOT', u'VERB', u'shot', [u'he'], [u'me'])\n",
      "(u'me', u'dobj', u'PRON', u'shot', [], [u'and', u'sister'])\n",
      "(u'and', u'cc', u'CCONJ', u'me', [], [])\n",
      "(u'my', u'poss', u'ADJ', u'sister', [], [])\n",
      "(u'sister', u'conj', u'NOUN', u'me', [u'my'], [])\n",
      "[(u'he', u'shot', u'me'), (u'he', u'shot', u'sister'), (u'brother', u'shot', u'me'), (u'brother', u'shot', u'sister')]\n",
      "--------------------------------------------------\n"
     ]
    },
    {
     "ename": "TypeError",
     "evalue": "Argument 'string' has incorrect type (expected unicode, got str)",
     "output_type": "error",
     "traceback": [
      "\u001b[0;31m---------------------------------------------------------------------------\u001b[0m",
      "\u001b[0;31mTypeError\u001b[0m                                 Traceback (most recent call last)",
      "\u001b[0;32m<ipython-input-12-92d071603a65>\u001b[0m in \u001b[0;36m<module>\u001b[0;34m()\u001b[0m\n\u001b[1;32m    311\u001b[0m \u001b[0;34m\u001b[0m\u001b[0m\n\u001b[1;32m    312\u001b[0m \u001b[0;32mif\u001b[0m \u001b[0m__name__\u001b[0m \u001b[0;34m==\u001b[0m \u001b[0;34m\"__main__\"\u001b[0m\u001b[0;34m:\u001b[0m\u001b[0;34m\u001b[0m\u001b[0m\n\u001b[0;32m--> 313\u001b[0;31m     \u001b[0mmain\u001b[0m\u001b[0;34m(\u001b[0m\u001b[0;34m)\u001b[0m\u001b[0;34m\u001b[0m\u001b[0m\n\u001b[0m",
      "\u001b[0;32m<ipython-input-12-92d071603a65>\u001b[0m in \u001b[0;36mmain\u001b[0;34m()\u001b[0m\n\u001b[1;32m    308\u001b[0m \u001b[0;34m\u001b[0m\u001b[0m\n\u001b[1;32m    309\u001b[0m \u001b[0;32mdef\u001b[0m \u001b[0mmain\u001b[0m\u001b[0;34m(\u001b[0m\u001b[0;34m)\u001b[0m\u001b[0;34m:\u001b[0m\u001b[0;34m\u001b[0m\u001b[0m\n\u001b[0;32m--> 310\u001b[0;31m     \u001b[0mtestSVOs\u001b[0m\u001b[0;34m(\u001b[0m\u001b[0;34m)\u001b[0m\u001b[0;34m\u001b[0m\u001b[0m\n\u001b[0m\u001b[1;32m    311\u001b[0m \u001b[0;34m\u001b[0m\u001b[0m\n\u001b[1;32m    312\u001b[0m \u001b[0;32mif\u001b[0m \u001b[0m__name__\u001b[0m \u001b[0;34m==\u001b[0m \u001b[0;34m\"__main__\"\u001b[0m\u001b[0;34m:\u001b[0m\u001b[0;34m\u001b[0m\u001b[0m\n",
      "\u001b[0;32m<ipython-input-12-92d071603a65>\u001b[0m in \u001b[0;36mtestSVOs\u001b[0;34m()\u001b[0m\n\u001b[1;32m    252\u001b[0m \u001b[0;34m\u001b[0m\u001b[0m\n\u001b[1;32m    253\u001b[0m     \u001b[0;32mprint\u001b[0m\u001b[0;34m(\u001b[0m\u001b[0;34m\"--------------------------------------------------\"\u001b[0m\u001b[0;34m)\u001b[0m\u001b[0;34m\u001b[0m\u001b[0m\n\u001b[0;32m--> 254\u001b[0;31m     \u001b[0mtok\u001b[0m \u001b[0;34m=\u001b[0m \u001b[0mnlp\u001b[0m\u001b[0;34m(\u001b[0m\u001b[0;34m\"the annoying person that was my boyfriend hit me\"\u001b[0m\u001b[0;34m)\u001b[0m\u001b[0;34m\u001b[0m\u001b[0m\n\u001b[0m\u001b[1;32m    255\u001b[0m     \u001b[0msvos\u001b[0m \u001b[0;34m=\u001b[0m \u001b[0mfindSVOs\u001b[0m\u001b[0;34m(\u001b[0m\u001b[0mtok\u001b[0m\u001b[0;34m)\u001b[0m\u001b[0;34m\u001b[0m\u001b[0m\n\u001b[1;32m    256\u001b[0m     \u001b[0mprintDeps\u001b[0m\u001b[0;34m(\u001b[0m\u001b[0mtok\u001b[0m\u001b[0;34m)\u001b[0m\u001b[0;34m\u001b[0m\u001b[0m\n",
      "\u001b[0;32m/usr/local/lib/python2.7/dist-packages/spacy/language.pyc\u001b[0m in \u001b[0;36m__call__\u001b[0;34m(self, text, disable)\u001b[0m\n\u001b[1;32m    344\u001b[0m             raise ValueError(Errors.E088.format(length=len(text),\n\u001b[1;32m    345\u001b[0m                                                 max_length=self.max_length))\n\u001b[0;32m--> 346\u001b[0;31m         \u001b[0mdoc\u001b[0m \u001b[0;34m=\u001b[0m \u001b[0mself\u001b[0m\u001b[0;34m.\u001b[0m\u001b[0mmake_doc\u001b[0m\u001b[0;34m(\u001b[0m\u001b[0mtext\u001b[0m\u001b[0;34m)\u001b[0m\u001b[0;34m\u001b[0m\u001b[0m\n\u001b[0m\u001b[1;32m    347\u001b[0m         \u001b[0;32mfor\u001b[0m \u001b[0mname\u001b[0m\u001b[0;34m,\u001b[0m \u001b[0mproc\u001b[0m \u001b[0;32min\u001b[0m \u001b[0mself\u001b[0m\u001b[0;34m.\u001b[0m\u001b[0mpipeline\u001b[0m\u001b[0;34m:\u001b[0m\u001b[0;34m\u001b[0m\u001b[0m\n\u001b[1;32m    348\u001b[0m             \u001b[0;32mif\u001b[0m \u001b[0mname\u001b[0m \u001b[0;32min\u001b[0m \u001b[0mdisable\u001b[0m\u001b[0;34m:\u001b[0m\u001b[0;34m\u001b[0m\u001b[0m\n",
      "\u001b[0;32m/usr/local/lib/python2.7/dist-packages/spacy/language.pyc\u001b[0m in \u001b[0;36mmake_doc\u001b[0;34m(self, text)\u001b[0m\n\u001b[1;32m    376\u001b[0m \u001b[0;34m\u001b[0m\u001b[0m\n\u001b[1;32m    377\u001b[0m     \u001b[0;32mdef\u001b[0m \u001b[0mmake_doc\u001b[0m\u001b[0;34m(\u001b[0m\u001b[0mself\u001b[0m\u001b[0;34m,\u001b[0m \u001b[0mtext\u001b[0m\u001b[0;34m)\u001b[0m\u001b[0;34m:\u001b[0m\u001b[0;34m\u001b[0m\u001b[0m\n\u001b[0;32m--> 378\u001b[0;31m         \u001b[0;32mreturn\u001b[0m \u001b[0mself\u001b[0m\u001b[0;34m.\u001b[0m\u001b[0mtokenizer\u001b[0m\u001b[0;34m(\u001b[0m\u001b[0mtext\u001b[0m\u001b[0;34m)\u001b[0m\u001b[0;34m\u001b[0m\u001b[0m\n\u001b[0m\u001b[1;32m    379\u001b[0m \u001b[0;34m\u001b[0m\u001b[0m\n\u001b[1;32m    380\u001b[0m     \u001b[0;32mdef\u001b[0m \u001b[0mupdate\u001b[0m\u001b[0;34m(\u001b[0m\u001b[0mself\u001b[0m\u001b[0;34m,\u001b[0m \u001b[0mdocs\u001b[0m\u001b[0;34m,\u001b[0m \u001b[0mgolds\u001b[0m\u001b[0;34m,\u001b[0m \u001b[0mdrop\u001b[0m\u001b[0;34m=\u001b[0m\u001b[0;36m0.\u001b[0m\u001b[0;34m,\u001b[0m \u001b[0msgd\u001b[0m\u001b[0;34m=\u001b[0m\u001b[0mNone\u001b[0m\u001b[0;34m,\u001b[0m \u001b[0mlosses\u001b[0m\u001b[0;34m=\u001b[0m\u001b[0mNone\u001b[0m\u001b[0;34m)\u001b[0m\u001b[0;34m:\u001b[0m\u001b[0;34m\u001b[0m\u001b[0m\n",
      "\u001b[0;31mTypeError\u001b[0m: Argument 'string' has incorrect type (expected unicode, got str)"
     ]
    }
   ],
   "source": [
    "from nltk.stem.wordnet import WordNetLemmatizer\n",
    "\n",
    "\n",
    "SUBJECTS = [\"nsubj\", \"nsubjpass\", \"csubj\", \"csubjpass\", \"agent\", \"expl\"]\n",
    "OBJECTS = [\"dobj\", \"dative\", \"attr\", \"oprd\"]\n",
    "\n",
    "def getSubsFromConjunctions(subs):\n",
    "    moreSubs = []\n",
    "    for sub in subs:\n",
    "        # rights is a generator\n",
    "        rights = list(sub.rights)\n",
    "        rightDeps = {tok.lower_ for tok in rights}\n",
    "        if \"and\" in rightDeps:\n",
    "            moreSubs.extend([tok for tok in rights if tok.dep_ in SUBJECTS or tok.pos_ == \"NOUN\"])\n",
    "            if len(moreSubs) > 0:\n",
    "                moreSubs.extend(getSubsFromConjunctions(moreSubs))\n",
    "    return moreSubs\n",
    "\n",
    "def getObjsFromConjunctions(objs):\n",
    "    moreObjs = []\n",
    "    for obj in objs:\n",
    "        # rights is a generator\n",
    "        rights = list(obj.rights)\n",
    "        rightDeps = {tok.lower_ for tok in rights}\n",
    "        if \"and\" in rightDeps:\n",
    "            moreObjs.extend([tok for tok in rights if tok.dep_ in OBJECTS or tok.pos_ == \"NOUN\"])\n",
    "            if len(moreObjs) > 0:\n",
    "                moreObjs.extend(getObjsFromConjunctions(moreObjs))\n",
    "    return moreObjs\n",
    "\n",
    "def getVerbsFromConjunctions(verbs):\n",
    "    moreVerbs = []\n",
    "    for verb in verbs:\n",
    "        rightDeps = {tok.lower_ for tok in verb.rights}\n",
    "        if \"and\" in rightDeps:\n",
    "            moreVerbs.extend([tok for tok in verb.rights if tok.pos_ == \"VERB\"])\n",
    "            if len(moreVerbs) > 0:\n",
    "                moreVerbs.extend(getVerbsFromConjunctions(moreVerbs))\n",
    "    return moreVerbs\n",
    "\n",
    "def findSubs(tok):\n",
    "    head = tok.head\n",
    "    while head.pos_ != \"VERB\" and head.pos_ != \"NOUN\" and head.head != head:\n",
    "        head = head.head\n",
    "    if head.pos_ == \"VERB\":\n",
    "        subs = [tok for tok in head.lefts if tok.dep_ == \"SUB\"]\n",
    "        if len(subs) > 0:\n",
    "            verbNegated = isNegated(head)\n",
    "            subs.extend(getSubsFromConjunctions(subs))\n",
    "            return subs, verbNegated\n",
    "        elif head.head != head:\n",
    "            return findSubs(head)\n",
    "    elif head.pos_ == \"NOUN\":\n",
    "        return [head], isNegated(tok)\n",
    "    return [], False\n",
    "\n",
    "def isNegated(tok):\n",
    "    negations = {\"no\", \"not\", \"n't\", \"never\", \"none\"}\n",
    "    for dep in list(tok.lefts) + list(tok.rights):\n",
    "        if dep.lower_ in negations:\n",
    "            return True\n",
    "    return False\n",
    "\n",
    "def findSVs(tokens):\n",
    "    svs = []\n",
    "    verbs = [tok for tok in tokens if tok.pos_ == \"VERB\"]\n",
    "    for v in verbs:\n",
    "        subs, verbNegated = getAllSubs(v)\n",
    "        if len(subs) > 0:\n",
    "            for sub in subs:\n",
    "                svs.append((sub.orth_, \"!\" + v.orth_ if verbNegated else v.orth_))\n",
    "    return svs\n",
    "\n",
    "def getObjsFromPrepositions(deps):\n",
    "    objs = []\n",
    "    for dep in deps:\n",
    "        if dep.pos_ == \"ADP\" and dep.dep_ == \"prep\":\n",
    "            objs.extend([tok for tok in dep.rights if tok.dep_  in OBJECTS or (tok.pos_ == \"PRON\" and tok.lower_ == \"me\")])\n",
    "    return objs\n",
    "\n",
    "def getObjsFromAttrs(deps):\n",
    "    for dep in deps:\n",
    "        if dep.pos_ == \"NOUN\" and dep.dep_ == \"attr\":\n",
    "            verbs = [tok for tok in dep.rights if tok.pos_ == \"VERB\"]\n",
    "            if len(verbs) > 0:\n",
    "                for v in verbs:\n",
    "                    rights = list(v.rights)\n",
    "                    objs = [tok for tok in rights if tok.dep_ in OBJECTS]\n",
    "                    objs.extend(getObjsFromPrepositions(rights))\n",
    "                    if len(objs) > 0:\n",
    "                        return v, objs\n",
    "    return None, None\n",
    "\n",
    "def getObjFromXComp(deps):\n",
    "    for dep in deps:\n",
    "        if dep.pos_ == \"VERB\" and dep.dep_ == \"xcomp\":\n",
    "            v = dep\n",
    "            rights = list(v.rights)\n",
    "            objs = [tok for tok in rights if tok.dep_ in OBJECTS]\n",
    "            objs.extend(getObjsFromPrepositions(rights))\n",
    "            if len(objs) > 0:\n",
    "                return v, objs\n",
    "    return None, None\n",
    "\n",
    "def getAllSubs(v):\n",
    "    verbNegated = isNegated(v)\n",
    "    subs = [tok for tok in v.lefts if tok.dep_ in SUBJECTS and tok.pos_ != \"DET\"]\n",
    "    if len(subs) > 0:\n",
    "        subs.extend(getSubsFromConjunctions(subs))\n",
    "    else:\n",
    "        foundSubs, verbNegated = findSubs(v)\n",
    "        subs.extend(foundSubs)\n",
    "    return subs, verbNegated\n",
    "\n",
    "def getAllObjs(v):\n",
    "    # rights is a generator\n",
    "    rights = list(v.rights)\n",
    "    objs = [tok for tok in rights if tok.dep_ in OBJECTS]\n",
    "    objs.extend(getObjsFromPrepositions(rights))\n",
    "\n",
    "    #potentialNewVerb, potentialNewObjs = getObjsFromAttrs(rights)\n",
    "    #if potentialNewVerb is not None and potentialNewObjs is not None and len(potentialNewObjs) > 0:\n",
    "    #    objs.extend(potentialNewObjs)\n",
    "    #    v = potentialNewVerb\n",
    "\n",
    "    potentialNewVerb, potentialNewObjs = getObjFromXComp(rights)\n",
    "    if potentialNewVerb is not None and potentialNewObjs is not None and len(potentialNewObjs) > 0:\n",
    "        objs.extend(potentialNewObjs)\n",
    "        v = potentialNewVerb\n",
    "    if len(objs) > 0:\n",
    "        objs.extend(getObjsFromConjunctions(objs))\n",
    "    return v, objs\n",
    "\n",
    "def findSVOs(tokens):\n",
    "    svos = []\n",
    "    verbs = [tok for tok in tokens if tok.pos_ == \"VERB\" and tok.dep_ != \"aux\"]\n",
    "    for v in verbs:\n",
    "        subs, verbNegated = getAllSubs(v)\n",
    "        # hopefully there are subs, if not, don't examine this verb any longer\n",
    "        if len(subs) > 0:\n",
    "            v, objs = getAllObjs(v)\n",
    "            for sub in subs:\n",
    "                for obj in objs:\n",
    "                    objNegated = isNegated(obj)\n",
    "                    svos.append((sub.lower_, \"!\" + v.lower_ if verbNegated or objNegated else v.lower_, obj.lower_))\n",
    "    return svos\n",
    "\n",
    "def getAbuserOntoVictimSVOs(tokens):\n",
    "    maleAbuser = {'he', 'boyfriend', 'bf', 'father', 'dad', 'husband', 'brother', 'man'}\n",
    "    femaleAbuser = {'she', 'girlfriend', 'gf', 'mother', 'mom', 'wife', 'sister', 'woman'}\n",
    "    neutralAbuser = {'pastor', 'abuser', 'offender', 'ex', 'x', 'lover', 'church', 'they'}\n",
    "    victim = {'me', 'sister', 'brother', 'child', 'kid', 'baby', 'friend', 'her', 'him', 'man', 'woman'}\n",
    "\n",
    "    svos = findSVOs(tokens)\n",
    "    wnl = WordNetLemmatizer()\n",
    "    passed = []\n",
    "    for s, v, o in svos:\n",
    "        s = wnl.lemmatize(s)\n",
    "        v = \"!\" + wnl.lemmatize(v[1:], 'v') if v[0] == \"!\" else wnl.lemmatize(v, 'v')\n",
    "        o = \"!\" + wnl.lemmatize(o[1:]) if o[0] == \"!\" else wnl.lemmatize(o)\n",
    "        if s in maleAbuser.union(femaleAbuser).union(neutralAbuser) and o in victim:\n",
    "            passed.append((s, v, o))\n",
    "    return passed\n",
    "\n",
    "def printDeps(toks):\n",
    "    for tok in toks:\n",
    "        print(tok.orth_, tok.dep_, tok.pos_, tok.head.orth_, [t.orth_ for t in tok.lefts], [t.orth_ for t in tok.rights])\n",
    "\n",
    "def testSVOs():\n",
    "    nlp = spacy.load('en_core_web_sm')\n",
    "\n",
    "    tok = nlp(u\"making $12 an hour? where am i going to go? i have no other financial assistance available and he certainly won't provide support.\")\n",
    "    svos = findSVOs(tok)\n",
    "    printDeps(tok)\n",
    "    assert set(svos) == {('i', '!have', 'assistance'), ('he', '!provide', 'support')}\n",
    "    print(svos)\n",
    "\n",
    "    tok = nlp(u\"i don't have other assistance\")\n",
    "    svos = findSVOs(tok)\n",
    "    printDeps(tok)\n",
    "    assert set(svos) == {('i', '!have', 'assistance')}\n",
    "\n",
    "    print(\"-----------------------------------------------\")\n",
    "    tok = nlp(u\"They ate the pizza with anchovies.\")\n",
    "    svos = findSVOs(tok)\n",
    "    printDeps(tok)\n",
    "    print(svos)\n",
    "    assert set(svos) == {('they', 'ate', 'pizza')}\n",
    "\n",
    "    print(\"--------------------------------------------------\")\n",
    "    tok = nlp(u\"I have no other financial assistance available and he certainly won't provide support.\")\n",
    "    svos = findSVOs(tok)\n",
    "    printDeps(tok)\n",
    "    print(svos)\n",
    "    assert set(svos) == {('i', '!have', 'assistance'), ('he', '!provide', 'support')}\n",
    "\n",
    "    print(\"--------------------------------------------------\")\n",
    "    tok = nlp(u\"I have no other financial assistance available, and he certainly won't provide support.\")\n",
    "    svos = findSVOs(tok)\n",
    "    printDeps(tok)\n",
    "    print(svos)\n",
    "    assert set(svos) == {('i', '!have', 'assistance'), ('he', '!provide', 'support')}\n",
    "\n",
    "    print(\"--------------------------------------------------\")\n",
    "    tok = nlp(u\"he did not kill me\")\n",
    "    svos = findSVOs(tok)\n",
    "    printDeps(tok)\n",
    "    print(svos)\n",
    "    assert set(svos) == {('he', '!kill', 'me')}\n",
    "\n",
    "    #print(\"--------------------------------------------------\")\n",
    "    #tok = nlp(\"he is an evil man that hurt my child and sister\")\n",
    "    #svos = findSVOs(tok)\n",
    "    #printDeps(tok)\n",
    "    #print(svos)\n",
    "    #assert set(svos) == {('he', 'hurt', 'child'), ('he', 'hurt', 'sister'), ('man', 'hurt', 'child'), ('man', 'hurt', 'sister')}\n",
    "\n",
    "    print(\"--------------------------------------------------\")\n",
    "    tok = nlp(u\"he told me i would die alone with nothing but my career someday\")\n",
    "    svos = findSVOs(tok)\n",
    "    printDeps(tok)\n",
    "    print(svos)\n",
    "    assert set(svos) == {('he', 'told', 'me')}\n",
    "\n",
    "    print(\"--------------------------------------------------\")\n",
    "    tok = nlp(u\"I wanted to kill him with a hammer.\")\n",
    "    svos = findSVOs(tok)\n",
    "    printDeps(tok)\n",
    "    print(svos)\n",
    "    assert set(svos) == {('i', 'kill', 'him')}\n",
    "\n",
    "    print(\"--------------------------------------------------\")\n",
    "    tok = nlp(u\"because he hit me and also made me so angry i wanted to kill him with a hammer.\")\n",
    "    svos = findSVOs(tok)\n",
    "    printDeps(tok)\n",
    "    print(svos)\n",
    "    assert set(svos) == {('he', 'hit', 'me'), ('i', 'kill', 'him')}\n",
    "\n",
    "    print(\"--------------------------------------------------\")\n",
    "    tok = nlp(u\"he and his brother shot me\")\n",
    "    svos = findSVOs(tok)\n",
    "    printDeps(tok)\n",
    "    print(svos)\n",
    "    assert set(svos) == {('he', 'shot', 'me'), ('brother', 'shot', 'me')}\n",
    "\n",
    "    print(\"--------------------------------------------------\")\n",
    "    tok = nlp(u\"he and his brother shot me and my sister\")\n",
    "    svos = findSVOs(tok)\n",
    "    printDeps(tok)\n",
    "    print(svos)\n",
    "    assert set(svos) == {('he', 'shot', 'me'), ('he', 'shot', 'sister'), ('brother', 'shot', 'me'), ('brother', 'shot', 'sister')}\n",
    "\n",
    "    print(\"--------------------------------------------------\")\n",
    "    tok = nlp(\"the annoying person that was my boyfriend hit me\")\n",
    "    svos = findSVOs(tok)\n",
    "    printDeps(tok)\n",
    "    print(svos)\n",
    "    assert set(svos) == {('person', 'was', 'boyfriend'), ('person', 'hit', 'me')}\n",
    "\n",
    "    print(\"--------------------------------------------------\")\n",
    "    tok = nlp(\"the boy raced the girl who had a hat that had spots.\")\n",
    "    svos = findSVOs(tok)\n",
    "    printDeps(tok)\n",
    "    print(svos)\n",
    "    assert set(svos) == {('boy', 'raced', 'girl'), ('who', 'had', 'hat'), ('hat', 'had', 'spots')}\n",
    "\n",
    "    print(\"--------------------------------------------------\")\n",
    "    tok = nlp(\"he spit on me\")\n",
    "    svos = findSVOs(tok)\n",
    "    printDeps(tok)\n",
    "    print(svos)\n",
    "    assert set(svos) == {('he', 'spit', 'me')}\n",
    "\n",
    "    print(\"--------------------------------------------------\")\n",
    "    tok = nlp(\"he didn't spit on me\")\n",
    "    svos = findSVOs(tok)\n",
    "    printDeps(tok)\n",
    "    print(svos)\n",
    "    assert set(svos) == {('he', '!spit', 'me')}\n",
    "\n",
    "    print(\"--------------------------------------------------\")\n",
    "    tok = nlp(\"the boy raced the girl who had a hat that didn't have spots.\")\n",
    "    svos = findSVOs(tok)\n",
    "    printDeps(tok)\n",
    "    print(svos)\n",
    "    assert set(svos) == {('boy', 'raced', 'girl'), ('who', 'had', 'hat'), ('hat', '!have', 'spots')}\n",
    "\n",
    "    print(\"--------------------------------------------------\")\n",
    "    tok = nlp(\"he is a nice man that didn't hurt my child and sister\")\n",
    "    svos = findSVOs(tok)\n",
    "    printDeps(tok)\n",
    "    print(svos)\n",
    "    assert set(svos) == {('he', 'is', 'man'), ('man', '!hurt', 'child'), ('man', '!hurt', 'sister')}\n",
    "\n",
    "    print(\"--------------------------------------------------\")\n",
    "    tok = nlp(\"he didn't spit on me and my child\")\n",
    "    svos = findSVOs(tok)\n",
    "    printDeps(tok)\n",
    "    print(svos)\n",
    "    assert set(svos) == {('he', '!spit', 'me'), ('he', '!spit', 'child')}\n",
    "\n",
    "    print(\"--------------------------------------------------\")\n",
    "    tok = nlp(\"he beat and hurt me\")\n",
    "    svos = findSVOs(tok)\n",
    "    printDeps(tok)\n",
    "    print(svos)\n",
    "    # tok = nlp(\"he beat and hurt me\")\n",
    "\n",
    "def main():\n",
    "    testSVOs()\n",
    "\n",
    "if __name__ == \"__main__\":\n",
    "    main()"
   ]
  },
  {
   "cell_type": "code",
   "execution_count": null,
   "metadata": {
    "collapsed": true
   },
   "outputs": [],
   "source": []
  }
 ],
 "metadata": {
  "kernelspec": {
   "display_name": "Python 2",
   "language": "python",
   "name": "python2"
  },
  "language_info": {
   "codemirror_mode": {
    "name": "ipython",
    "version": 2
   },
   "file_extension": ".py",
   "mimetype": "text/x-python",
   "name": "python",
   "nbconvert_exporter": "python",
   "pygments_lexer": "ipython2",
   "version": "2.7.6"
  }
 },
 "nbformat": 4,
 "nbformat_minor": 1
}
