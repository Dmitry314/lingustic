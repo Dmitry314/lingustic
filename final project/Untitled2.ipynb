{
 "cells": [
  {
   "cell_type": "code",
   "execution_count": 32,
   "metadata": {
    "collapsed": true
   },
   "outputs": [],
   "source": [
    "from helper_fun import *\n",
    "import pandas as pd\n",
    "import string\n",
    "from tqdm import tqdm"
   ]
  },
  {
   "cell_type": "code",
   "execution_count": 11,
   "metadata": {
    "collapsed": true
   },
   "outputs": [],
   "source": [
    "text = get_one_text('Airport.txt')"
   ]
  },
  {
   "cell_type": "code",
   "execution_count": 12,
   "metadata": {
    "collapsed": false
   },
   "outputs": [],
   "source": [
    "def clean3(data):\n",
    "    res = []\n",
    "    a = set(string.ascii_letters)\n",
    "    a.add(' ')\n",
    "    for i in data:\n",
    "        \n",
    "        if(i == '\\n'):\n",
    "            res.append(' ')\n",
    "        else:\n",
    "            if  i in set(a):\n",
    "                res.append(i)\n",
    "          \n",
    "    \n",
    "    res = \"\".join(res)\n",
    "\n",
    "    \n",
    "    return res\n",
    "\n",
    "def get_text(title = 'Airport.txt'):\n",
    "\n",
    "    \n",
    "    text = get_one_text(title)\n",
    "    text = text.replace('!', '.')\n",
    "    text = text.replace('?', '.')\n",
    "    sentences = text.split('.')\n",
    "    \n",
    "    \n",
    "    for i in range(0, len(sentences)):\n",
    "        sentences[i] = sentences[i].lstrip().rstrip()\n",
    "        sentences[i] = clean3(sentences[i])\n",
    "        \n",
    "        sentences[i] = sentences[i].lstrip().rstrip()\n",
    "        sentences[i] = clean3(sentences[i])\n",
    "    \n",
    "    return sentences"
   ]
  },
  {
   "cell_type": "code",
   "execution_count": 16,
   "metadata": {
    "collapsed": false
   },
   "outputs": [
    {
     "data": {
      "text/plain": [
       "3660"
      ]
     },
     "execution_count": 16,
     "metadata": {},
     "output_type": "execute_result"
    }
   ],
   "source": [
    "Airport = get_text()\n",
    "Airport = filter(lambda w: len(w) > 0, Airport)\n",
    "len(Airport)"
   ]
  },
  {
   "cell_type": "code",
   "execution_count": 21,
   "metadata": {
    "collapsed": false
   },
   "outputs": [
    {
     "data": {
      "text/plain": [
       "he shouted"
      ]
     },
     "execution_count": 21,
     "metadata": {},
     "output_type": "execute_result"
    }
   ],
   "source": [
    "import spacy\n",
    "from spacy import displacy\n",
    "nlp = spacy.load('en_core_web_sm')\n",
    "\n",
    "doc = nlp(Airport[789].decode('unicode-escape'))\n",
    "doc"
   ]
  },
  {
   "cell_type": "code",
   "execution_count": 51,
   "metadata": {
    "collapsed": false
   },
   "outputs": [],
   "source": [
    "def get_all_something(sent, something = u'PERSON'):\n",
    "    res = {}\n",
    "    for i in range(0, len(sent)):\n",
    "        doc = nlp(sent[i].decode('unicode-escape'))\n",
    "        for entity in doc.ents:\n",
    "            if(entity.label_ == something):\n",
    "                if(res.get(entity.text, -1) == -1):\n",
    "                    res[entity.text ]= 1\n",
    "                else:\n",
    "                    res[entity.text] += 1\n",
    "           \n",
    "    result = []\n",
    "    for key in res.keys():\n",
    "        result.append([key, res[key]])\n",
    "    \n",
    "    result.sort(key = lambda w: w[1], reverse = True)\n",
    "    return result\n"
   ]
  },
  {
   "cell_type": "code",
   "execution_count": 39,
   "metadata": {
    "collapsed": false
   },
   "outputs": [
    {
     "name": "stderr",
     "output_type": "stream",
     "text": [
      "100%|██████████| 3660/3660 [01:43<00:00, 35.21it/s]\n"
     ]
    }
   ],
   "source": [
    "z = get_all_something(Airport)"
   ]
  },
  {
   "cell_type": "code",
   "execution_count": 40,
   "metadata": {
    "collapsed": false
   },
   "outputs": [
    {
     "data": {
      "text/plain": [
       "[[u'Mel', 181],\n",
       " [u'Gwen', 33],\n",
       " [u'Harris', 31],\n",
       " [u'Mrs Quonsett', 27],\n",
       " [u'Patroni', 23],\n",
       " [u'Keith', 19],\n",
       " [u'Joe Patroni', 17],\n",
       " [u'Mel Bakersfeld', 16],\n",
       " [u'Ill', 12],\n",
       " [u'Bakersfeld', 12],\n",
       " [u'Danny', 10],\n",
       " [u'Inez Guerrero', 10],\n",
       " [u'Elliott Freemantle', 10],\n",
       " [u'Vernon Demerest', 9],\n",
       " [u'Peter Coakley', 9],\n",
       " [u'Ned Ordway', 9],\n",
       " [u'Tanya', 9],\n",
       " [u'Sarah', 8],\n",
       " [u'Inez', 8],\n",
       " [u'Zanetta', 7],\n",
       " [u'Tevis', 7],\n",
       " [u'Perry Yount', 7],\n",
       " [u'Anson Harris', 7],\n",
       " [u'Compagno', 6],\n",
       " [u'Libby', 6],\n",
       " [u'Redfern', 6],\n",
       " [u'Tanya Livingston', 6],\n",
       " [u'Gwen Meighen', 6],\n",
       " [u'George Wallace', 6],\n",
       " [u'Danny Farrow', 6],\n",
       " [u'Demerest', 6],\n",
       " [u'Guerrero', 5],\n",
       " [u'Wayne Tevis', 5],\n",
       " [u'Judy', 5],\n",
       " [u'Wallace', 5],\n",
       " [u'Patsy', 5],\n",
       " [u'Keith Bakersfeld', 5],\n",
       " [u'Ground Control', 4],\n",
       " [u'Roberta', 4],\n",
       " [u'Tanyas', 4],\n",
       " [u'Captain Harris', 4],\n",
       " [u'Tomlinson', 3],\n",
       " [u'Mrs Ada Quonsett', 3],\n",
       " [u'Valerie', 3],\n",
       " [u'Beech Bonanza', 3],\n",
       " [u'Bunnie', 3],\n",
       " [u'Gwens', 3],\n",
       " [u'Kennedy', 3],\n",
       " [u'Ada Quonsett', 3],\n",
       " [u'Jordan', 3],\n",
       " [u'Mrs Inez Guerrero', 2],\n",
       " [u'Irving Redfern', 2],\n",
       " [u'Patsy Smith', 2],\n",
       " [u'Harry Standish', 2],\n",
       " [u'Vernon Harris', 2],\n",
       " [u'Mrs Livingston', 2],\n",
       " [u'Joe', 2],\n",
       " [u'Runway', 2],\n",
       " [u'Floyd Zanetta', 2],\n",
       " [u'Mrs Bakersfeld', 2],\n",
       " [u'Mrs Ackerman', 2],\n",
       " [u'Bunnie Vorobioff', 2],\n",
       " [u'Bert Weatherby', 2],\n",
       " [u'Vernon Mel', 2],\n",
       " [u'Neel', 2],\n",
       " [u'Gwen Rathbone', 1],\n",
       " [u'Mel Meets', 1],\n",
       " [u'Kennedys', 1],\n",
       " [u'Irving Redfern Make', 1],\n",
       " [u'Anson', 1],\n",
       " [u'Mrs Sebastiani', 1],\n",
       " [u'Turn Braniff', 1],\n",
       " [u'Mel Are', 1],\n",
       " [u'Perry Yount Keith', 1],\n",
       " [u'Mrs Guerrero Ordway', 1],\n",
       " [u'Elliot', 1],\n",
       " [u'Elliotts', 1],\n",
       " [u'Judys', 1],\n",
       " [u'Joe Patroni Clears', 1],\n",
       " [u'Joe Patroni  ', 1],\n",
       " [u'Milton Compagno', 1],\n",
       " [u'George', 1],\n",
       " [u'Elliott Freemantle  ', 1],\n",
       " [u'Airfield', 1],\n",
       " [u'Valerie Redfern', 1],\n",
       " [u'Neels', 1],\n",
       " [u'Keith Remembers', 1],\n",
       " [u'Inez Guerrero Ordway', 1],\n",
       " [u'Vernon Demerests', 1],\n",
       " [u'Vorobioff', 1],\n",
       " [u'Gwen Please', 1],\n",
       " [u'Leaves Home', 1],\n",
       " [u'Vernons', 1],\n",
       " [u'Mel Keith', 1],\n",
       " [u'Jeremy', 1],\n",
       " [u'Look Keith', 1],\n",
       " [u'Marcus Rathbone', 1],\n",
       " [u'Warn Air Traffic', 1],\n",
       " [u'Listen Ill', 1],\n",
       " [u'Tanya Tanya', 1],\n",
       " [u'Mrs Guerrero', 1],\n",
       " [u'Patroni Mel', 1],\n",
       " [u'Harry', 1],\n",
       " [u'Yount Wallace', 1],\n",
       " [u'Joe Patroni Arrives', 1],\n",
       " [u'Peter Coakleys', 1],\n",
       " [u'The Golden Argosy', 1],\n",
       " [u'Herbert Quonsett', 1],\n",
       " [u'Gwen Meighens', 1],\n",
       " [u'Keith Bakersfelds', 1],\n",
       " [u'Gwen  ', 1],\n",
       " [u'Elliott', 1],\n",
       " [u'Miss Meighen', 1],\n",
       " [u'Mrs Quonsetts', 1],\n",
       " [u'Merry', 1],\n",
       " [u'Marie', 1],\n",
       " [u'Snowploughs', 1],\n",
       " [u'Natalie', 1],\n",
       " [u'Anson Harris Cy Jordan', 1],\n",
       " [u'Mrs Quonsett Enjoys', 1],\n",
       " [u'Jackie Kennedy', 1],\n",
       " [u'Cindy Bakersfeld', 1],\n",
       " [u'Demerest Mel', 1],\n",
       " [u'Mrs Quonsett Tanya', 1],\n",
       " [u'Mel Bakersfelds', 1]]"
      ]
     },
     "execution_count": 40,
     "metadata": {},
     "output_type": "execute_result"
    }
   ],
   "source": [
    "z"
   ]
  },
  {
   "cell_type": "code",
   "execution_count": 42,
   "metadata": {
    "collapsed": false
   },
   "outputs": [
    {
     "data": {
      "text/plain": [
       "16400"
      ]
     },
     "execution_count": 42,
     "metadata": {},
     "output_type": "execute_result"
    }
   ],
   "source": [
    "Crime = get_text('Crime.txt')\n",
    "Crime = filter(lambda w: len(w) > 0, Crime)\n",
    "len(Crime)"
   ]
  },
  {
   "cell_type": "code",
   "execution_count": 44,
   "metadata": {
    "collapsed": false
   },
   "outputs": [
    {
     "name": "stdout",
     "output_type": "stream",
     "text": [
      "(u'Moscow', u'GPE')\n"
     ]
    }
   ],
   "source": [
    "text = u'I go to Moscow'\n",
    "doc = nlp(text)\n",
    "for entity in doc.ents:\n",
    "\n",
    "    print(entity.text, entity.label_)"
   ]
  },
  {
   "cell_type": "code",
   "execution_count": 52,
   "metadata": {
    "collapsed": false
   },
   "outputs": [],
   "source": [
    "Cr = Crime[:3000]\n",
    "z1 = get_all_something(Cr) \n"
   ]
  },
  {
   "cell_type": "code",
   "execution_count": 54,
   "metadata": {
    "collapsed": true
   },
   "outputs": [],
   "source": [
    "z2 = get_all_something(Cr, u'GPE')"
   ]
  },
  {
   "cell_type": "code",
   "execution_count": 53,
   "metadata": {
    "collapsed": false
   },
   "outputs": [
    {
     "data": {
      "text/plain": [
       "[[u'Raskolnikov', 104],\n",
       " [u'Dunya', 45],\n",
       " [u'Marmeladov', 21],\n",
       " [u'Katerina Ivanovna', 19],\n",
       " [u'Dunechka', 18],\n",
       " [u'Fomich', 14],\n",
       " [u'Svidrigailov', 13],\n",
       " [u'Razumikhin', 11],\n",
       " [u'Ilya Petrovich', 10],\n",
       " [u'Lebezyatnikov', 9],\n",
       " [u'Koch', 8],\n",
       " [u'Ill', 8],\n",
       " [u'Alyona Ivanovna', 7],\n",
       " [u'Raskolnikovs', 6],\n",
       " [u'Semyon Zakharych', 4],\n",
       " [u'Nastasya', 4],\n",
       " [u'Lizaveta', 4],\n",
       " [u'Pyotr Petrovich', 4],\n",
       " [u'Ivan', 4],\n",
       " [u'Darya Frantsevna', 3],\n",
       " [u'Lizaveta Ivanovna', 3],\n",
       " [u'Sonechkas', 3],\n",
       " [u'Haymarket', 3],\n",
       " [u'Stellovsky', 2],\n",
       " [u'Katkov', 2],\n",
       " [u'Svidrigailovs', 2],\n",
       " [u'Semyon', 2],\n",
       " [u'Mikhail', 2],\n",
       " [u'Ivanovich Vakhrushin', 2],\n",
       " [u'Rod', 2],\n",
       " [u'Katerina Ivanovnas', 2],\n",
       " [u'Dun', 2],\n",
       " [u'Heh', 2],\n",
       " [u'Ivan Afanasyevich', 2],\n",
       " [u'Po', 2],\n",
       " [u'Roman', 2],\n",
       " [u'Dunya Rodya', 2],\n",
       " [u'Zakhar', 2],\n",
       " [u'Karl', 2],\n",
       " [u'Rodion Romanovich Raskolnikov', 1],\n",
       " [u'Petrashevsky', 1],\n",
       " [u'Lizavetas', 1],\n",
       " [u'Petrovich Luzhin', 1],\n",
       " [u'Amal', 1],\n",
       " [u'Alyon', 1],\n",
       " [u'Weil', 1],\n",
       " [u'Laviza  Ivanovna', 1],\n",
       " [u'Gambler', 1],\n",
       " [u'Razumikhins', 1],\n",
       " [u'Alexander Grigorievich', 1],\n",
       " [u'Vasilievsky Island', 1],\n",
       " [u'Semyon Zakharovich Marmeladov', 1],\n",
       " [u'Aach', 1],\n",
       " [u'Horrified Raskolnikov', 1],\n",
       " [u'Klopstock Ivan Ivanovichperhaps', 1],\n",
       " [u'Luz hin', 1],\n",
       " [u'Alyona Ivanovnas', 1],\n",
       " [u'Nikolai', 1],\n",
       " [u'Speck', 1],\n",
       " [u'Tsar Peter', 1],\n",
       " [u'Poli', 1],\n",
       " [u'Kapernaumov', 1],\n",
       " [u'Raskolniki', 1],\n",
       " [u'Jesuits', 1],\n",
       " [u'Behold', 1],\n",
       " [u'Zamyo', 1],\n",
       " [u'Und Karl', 1],\n",
       " [u'Zeus', 1],\n",
       " [u'Len', 1],\n",
       " [u'Tolstoy Turgenev Goncharov', 1],\n",
       " [u'Darya Frantsevnas', 1],\n",
       " [u'Arka dy Ivan', 1],\n",
       " [u'Zamyotov', 1],\n",
       " [u'Vrangel', 1],\n",
       " [u'Richard Pevear  ', 1],\n",
       " [u'Down Podyacheskaya', 1],\n",
       " [u'Sonechka Sonechka Marmeladov', 1],\n",
       " [u'Dmi', 1],\n",
       " [u'Alexander IIthe', 1],\n",
       " [u'Mikhail Katkov', 1],\n",
       " [u'Fui', 1],\n",
       " [u'Vrazumi', 1],\n",
       " [u'Anna Grigorievna Snitkin', 1],\n",
       " [u'Luzhin', 1],\n",
       " [u'Lip', 1],\n",
       " [u'Pushkin', 1],\n",
       " [u'Translators Note  ', 1],\n",
       " [u'Pestryakov', 1],\n",
       " [u'Li', 1],\n",
       " [u'Nas', 1],\n",
       " [u'Chernyshevsky Dostoevsky', 1],\n",
       " [u'Petersburger', 1],\n",
       " [u'Pah', 1],\n",
       " [u'Porfiry Petrovich', 1],\n",
       " [u'Zimmerman', 1],\n",
       " [u'Kharkov', 1],\n",
       " [u'Anna Vasilievna', 1],\n",
       " [u'Sofya Semyonovna', 1],\n",
       " [u'Konstantin Mochulsky', 1],\n",
       " [u'God Rodya', 1],\n",
       " [u'Pulcheria Raskolnikov', 1],\n",
       " [u'Andrei  Semyon', 1]]"
      ]
     },
     "execution_count": 53,
     "metadata": {},
     "output_type": "execute_result"
    }
   ],
   "source": [
    "z1"
   ]
  },
  {
   "cell_type": "code",
   "execution_count": 55,
   "metadata": {
    "collapsed": false
   },
   "outputs": [
    {
     "data": {
      "text/plain": [
       "[[u'Petersburg', 17],\n",
       " [u'Neva', 14],\n",
       " [u'Sonya', 11],\n",
       " [u'Mitka', 4],\n",
       " [u'Understand', 3],\n",
       " [u'Bah', 3],\n",
       " [u'Marmeladovs', 2],\n",
       " [u'Nastasya', 2],\n",
       " [u'Haymarket', 2],\n",
       " [u'Pyotr Petrovich', 2],\n",
       " [u'Svidrigailovs', 2],\n",
       " [u'Amalia', 2],\n",
       " [u'Alyona', 1],\n",
       " [u'Boulevard', 1],\n",
       " [u'Nevka', 1],\n",
       " [u'Ny province', 1],\n",
       " [u'Razumikhinthat', 1],\n",
       " [u'Verse', 1],\n",
       " [u'Matvei', 1],\n",
       " [u'Nastasyas', 1],\n",
       " [u'the Kingdom of God', 1],\n",
       " [u'Foreword', 1],\n",
       " [u'Punishment', 1],\n",
       " [u'Suffering', 1],\n",
       " [u'Saint Petersburg', 1],\n",
       " [u'sayIm', 1],\n",
       " [u'Vasilievsky Island', 1],\n",
       " [u'Bacchus', 1],\n",
       " [u'Alexan', 1],\n",
       " [u'Pyotr', 1],\n",
       " [u'Noahs', 1],\n",
       " [u'Grigor', 1],\n",
       " [u'Marmela', 1],\n",
       " [u'Gospel', 1],\n",
       " [u'Nikolash', 1],\n",
       " [u'Semyon', 1],\n",
       " [u'England', 1],\n",
       " [u'Egypt', 1],\n",
       " [u'Utopian', 1]]"
      ]
     },
     "execution_count": 55,
     "metadata": {},
     "output_type": "execute_result"
    }
   ],
   "source": [
    "z2"
   ]
  },
  {
   "cell_type": "code",
   "execution_count": null,
   "metadata": {
    "collapsed": true
   },
   "outputs": [],
   "source": []
  }
 ],
 "metadata": {
  "kernelspec": {
   "display_name": "Python 2",
   "language": "python",
   "name": "python2"
  },
  "language_info": {
   "codemirror_mode": {
    "name": "ipython",
    "version": 2
   },
   "file_extension": ".py",
   "mimetype": "text/x-python",
   "name": "python",
   "nbconvert_exporter": "python",
   "pygments_lexer": "ipython2",
   "version": "2.7.6"
  }
 },
 "nbformat": 4,
 "nbformat_minor": 1
}
